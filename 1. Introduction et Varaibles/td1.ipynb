{
 "cells": [
  {
   "cell_type": "markdown",
   "id": "1a39c3d5",
   "metadata": {},
   "source": [
    "# <center>Chapitre 1 : Introduction et Variable - TD</center>"
   ]
  },
  {
   "cell_type": "markdown",
   "id": "94afb8cb",
   "metadata": {},
   "source": [
    "### Exercice 0 : Bonjour le monde !\n",
    "<p>Ecrivez un programme qui affiche <code>hello world</code>.</p>"
   ]
  },
  {
   "cell_type": "code",
   "execution_count": null,
   "id": "f19b3926",
   "metadata": {},
   "outputs": [],
   "source": [
    "#--------------------#\n",
    "#   Ecrire le code   #\n",
    "#--------------------#"
   ]
  },
  {
   "cell_type": "markdown",
   "id": "388dd630",
   "metadata": {},
   "source": [
    "### Exercice 1 : Séquences d'instructions\n",
    "\n",
    "Qu'affichent les programmes suivants ?"
   ]
  },
  {
   "cell_type": "code",
   "execution_count": null,
   "id": "e0278568",
   "metadata": {},
   "outputs": [],
   "source": [
    "print(1)\n",
    "print(2)\n",
    "print(3)"
   ]
  },
  {
   "cell_type": "code",
   "execution_count": null,
   "id": "c11eff54",
   "metadata": {},
   "outputs": [],
   "source": [
    "print(2)\n",
    "print(1)\n",
    "print(3)"
   ]
  },
  {
   "cell_type": "markdown",
   "id": "667b2ad6",
   "metadata": {},
   "source": [
    "### Exercice 2 : Noms de variables\n",
    "Parmi ces exemples, seuls certains sont des noms de variable valides. Lesquels ?\n",
    "- `x`\n",
    "- `x1`\n",
    "- `X1`\n",
    "- `toto`\n",
    "- `éric`\n",
    "- `_eric`\n",
    "- `t_42`\n",
    "- `24_t`"
   ]
  },
  {
   "cell_type": "markdown",
   "id": "5dd23190",
   "metadata": {},
   "source": [
    "### Exercice 3: Modification de variables\n",
    "\n",
    "<p>Qu'affiche le programme suivant ? </p>"
   ]
  },
  {
   "cell_type": "code",
   "execution_count": null,
   "id": "891ab8d2",
   "metadata": {},
   "outputs": [],
   "source": [
    "toto = 4\n",
    "print(toto)\n",
    "toto = 5 + 5\n",
    "print(toto)\n",
    "tata = toto + 4\n",
    "print(tata)\n",
    "tata = tata + 5\n",
    "print(toto)\n",
    "tata = tata + (toto*2)\n",
    "print(tata)"
   ]
  },
  {
   "cell_type": "markdown",
   "id": "7020b9e3",
   "metadata": {},
   "source": [
    "### Exercice 4 : Modification de variables 2\n",
    "\n",
    "<p>Qu'affiche le programme suivant ?</p>"
   ]
  },
  {
   "cell_type": "code",
   "execution_count": null,
   "id": "dac0ef57",
   "metadata": {},
   "outputs": [],
   "source": [
    "a=1\n",
    "b=2\n",
    "a=b\n",
    "b=a\n",
    "print(a)\n",
    "print(b)"
   ]
  },
  {
   "cell_type": "markdown",
   "id": "df3cc5cf",
   "metadata": {},
   "source": [
    "<p>Qu'affiche le programme suivant ?</p>"
   ]
  },
  {
   "cell_type": "code",
   "execution_count": null,
   "id": "3cc48b29",
   "metadata": {},
   "outputs": [],
   "source": [
    "a=1\n",
    "b=2\n",
    "b=a\n",
    "a=b\n",
    "print(a)\n",
    "print(b)"
   ]
  },
  {
   "cell_type": "markdown",
   "id": "7e4199c4",
   "metadata": {},
   "source": [
    "### Exercice 5 : Echange des valeurs de deux variables\n",
    "<p>Réaliser un programme échangeant la valeur de deux variables.</p>"
   ]
  },
  {
   "cell_type": "code",
   "execution_count": null,
   "id": "e482e235",
   "metadata": {},
   "outputs": [],
   "source": [
    "#--------------------#\n",
    "#   Ecrire le code   #\n",
    "#--------------------#"
   ]
  },
  {
   "cell_type": "markdown",
   "id": "0d75a8a1",
   "metadata": {},
   "source": [
    "### Exercice 6 : Types numériques\n",
    "<p>A chaque ligne du programme suivant, donner la valeur et le type des variables à gauche de l'opérateur d'affectation <code>=</code>."
   ]
  },
  {
   "cell_type": "code",
   "execution_count": null,
   "id": "345b17bf",
   "metadata": {},
   "outputs": [],
   "source": [
    "a = 1.0\n",
    "b = 2\n",
    "c = a + 1\n",
    "d = b + 3\n",
    "c = float(d)\n",
    "a = c / b\n",
    "a = int(c) // b"
   ]
  },
  {
   "cell_type": "markdown",
   "id": "981571cb",
   "metadata": {},
   "source": [
    "### Exercice 7 : L'addition\n",
    "\n",
    "<p>Donner la valeur des expressions suivantes :</p>\n",
    "<p><code>123 + 123</code></p>\n",
    "<p><code>\"123\" + \"123\"</code></p>\n",
    "<p><code>123 + \"123\"</code></p>\n",
    "<p><code>\"123 + 123\"</code></p>"
   ]
  },
  {
   "cell_type": "markdown",
   "id": "da35c6fb",
   "metadata": {},
   "source": [
    "### Exercice 8 : Saisie de chaînes de caractères au clavier\n",
    "\n",
    "<p>Qu'affiche le programme suivant, à supposer que l'utilisateur saisisse <code>123</code> puis <code>456</code> ?</p>"
   ]
  },
  {
   "cell_type": "code",
   "execution_count": null,
   "id": "3e261b0a",
   "metadata": {},
   "outputs": [],
   "source": [
    "a = input()\n",
    "b = input()\n",
    "c = a + b\n",
    "print(c)"
   ]
  },
  {
   "cell_type": "markdown",
   "id": "cbf2ef99",
   "metadata": {},
   "source": [
    "<p>Quels sont les types de <code>a</code>, <code>b</code> et <code>c</code> ?</p>"
   ]
  },
  {
   "cell_type": "markdown",
   "id": "898f8ad3",
   "metadata": {},
   "source": [
    "### Exercice 9 : Saisie de nombre au clavier\n",
    "\n",
    "<p>Reprenez le code de l'exercice 8 et transformer le pour que le résultat obtenu à la fin soit 579, la somme de 123 et 456</p>"
   ]
  },
  {
   "cell_type": "code",
   "execution_count": 1,
   "id": "da5d0b65",
   "metadata": {},
   "outputs": [],
   "source": [
    "#--------------------#\n",
    "#   Ecrire le code   #\n",
    "#--------------------#"
   ]
  },
  {
   "cell_type": "markdown",
   "id": "38e1fc79",
   "metadata": {},
   "source": [
    "<p>De quels types sont les différentes variables à présent ?</p>"
   ]
  },
  {
   "cell_type": "markdown",
   "id": "21daafea",
   "metadata": {},
   "source": [
    "### Exercice 10 : Calcul de périmètre et d'aire\n",
    "\n",
    "<p>Créez un programme qui demandera à l'utilisateur deux nombre, la largeur et la longueur d'un rectangle, et affichez la phrase suivante avec les bonnes valeurs : <i>Ce rectangle à un périmètre de <code>x</code> et une aire de <code>y</code></i>.</p>"
   ]
  },
  {
   "cell_type": "code",
   "execution_count": null,
   "id": "075ea9da",
   "metadata": {},
   "outputs": [],
   "source": [
    "#--------------------#\n",
    "#   Ecrire le code   #\n",
    "#--------------------#"
   ]
  },
  {
   "cell_type": "markdown",
   "id": "75641602",
   "metadata": {},
   "source": [
    "### Exercice 11 : Echange de nombres sans variable intermédiaire*\n",
    "\n",
    "<p>Écrire un programme qui demande à l'utilisateur deux nombres, les affiches, les échanges, et les ré-affiche sans utiliser de variables intermédiaires. Aidez vous d'addition et de soustractions.</p>\n",
    "\n",
    "<p><strong>Remarque :</strong> Cette méthode d'échange sans variable temporaire peut paraître meilleure que la méthode classique. Elle nécessite cependant que l'ordinateur effectue des additions/soustractions en plus. Surtout elle est beaucoup moins générale car elle suppose que les variables à échanger sont de type numérique : cette méthode ne fonctionne pas sur des chaînes de caractères par exemple. D'une manière générale, il y a souvent plusieurs manières de résoudre un problème. Le rôle du programmeur consiste à identifier le meilleur algorithme (le meilleur enchaînement d'instructions), compte tenu des hypothèses qu'il lui semble raisonnable de faire.</p>"
   ]
  },
  {
   "cell_type": "code",
   "execution_count": null,
   "id": "9c39d8ff",
   "metadata": {},
   "outputs": [],
   "source": [
    "#--------------------#\n",
    "#   Ecrire le code   #\n",
    "#--------------------#"
   ]
  }
 ],
 "metadata": {
  "kernelspec": {
   "display_name": "Python 3 (ipykernel)",
   "language": "python",
   "name": "python3"
  },
  "language_info": {
   "codemirror_mode": {
    "name": "ipython",
    "version": 3
   },
   "file_extension": ".py",
   "mimetype": "text/x-python",
   "name": "python",
   "nbconvert_exporter": "python",
   "pygments_lexer": "ipython3",
   "version": "3.9.12"
  },
  "toc": {
   "base_numbering": 1,
   "nav_menu": {},
   "number_sections": false,
   "sideBar": false,
   "skip_h1_title": false,
   "title_cell": "Table of Contents",
   "title_sidebar": "Contents",
   "toc_cell": false,
   "toc_position": {},
   "toc_section_display": false,
   "toc_window_display": false
  }
 },
 "nbformat": 4,
 "nbformat_minor": 5
}
