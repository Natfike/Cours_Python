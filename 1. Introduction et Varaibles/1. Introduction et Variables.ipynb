{
 "cells": [
  {
   "cell_type": "markdown",
   "id": "9b156c95",
   "metadata": {},
   "source": [
    "# <center> Chapitre 1 : Introduction et variables</center>"
   ]
  },
  {
   "cell_type": "markdown",
   "id": "1a1d5ac4",
   "metadata": {},
   "source": [
    "<p>Félicitations pour avoir réussi à installer jupyter notebook et lancé ce qui sera votre premier cours de programmation en python !</p>"
   ]
  },
  {
   "cell_type": "markdown",
   "id": "e7b6726c",
   "metadata": {},
   "source": [
    "## 2. Comment ça fonctionne ?"
   ]
  },
  {
   "cell_type": "markdown",
   "id": "bfd589d9",
   "metadata": {},
   "source": [
    "<p>Pour fonctionner, une machine à besoin de commande à exécuter. Et c'est donc notre travail de créer les programmes, comme celui ci-dessous !</p>"
   ]
  },
  {
   "cell_type": "code",
   "execution_count": 1,
   "id": "03031579",
   "metadata": {},
   "outputs": [
    {
     "name": "stdout",
     "output_type": "stream",
     "text": [
      "1\n",
      "2\n"
     ]
    }
   ],
   "source": [
    "print(1)\n",
    "print(2)"
   ]
  },
  {
   "cell_type": "markdown",
   "id": "abfca231",
   "metadata": {},
   "source": [
    "<p>Ce programme nous affiche le chiffre 1 puis le chiffre 2. Les instructions seront toujours lues les unes après les autres !</p>\n",
    "\n",
    "<p>Mais ce programme est assez simpliste. De nos jours, un programme peut devenir très rapidement très compliqué à créer. Vous vous doutez bien qu'un jeu comme Elden Ring ou créer des animations ou des rendus en 3D ne se fera pas en un simple claquement de doigt et ont dû être réduits en multiples petits problèmes à résoudre. </p>\n",
    "\n",
    "<p>Pour le moment, nous allons déjà essayer de créer de petits programmes simples comme celui ci-dessus plutôt que de créer le nouveau jeu à la mode. Et pour ce faire, nous aurons besoin de variables !</p>"
   ]
  },
  {
   "cell_type": "markdown",
   "id": "ce1f2558",
   "metadata": {},
   "source": [
    "## 3. Les variables"
   ]
  },
  {
   "cell_type": "markdown",
   "id": "0236cd02",
   "metadata": {},
   "source": [
    "<p>Il va nous falloir garder en mémoire certaines données que nous allons utiliser durant un programme. Pour ce faire, nous allons utiliser ce qu'on appelle des <strong>variables</strong>. Pour faire simple, nous allons créer une variable en lui donnant un nom, puis une valeur qui pourra varier. Chaque variable sera gardée dans la mémoire de l'ordinateur à une adresse qui lui sera unique.</p>\n",
    "\n",
    "<p>Il y a cependant quelques règles à respecter quant à la dénomination d'une variable. La première lettre sera comprise de [<code>a</code> à <code>z</code>],ou de [<code>A</code> à <code>Z</code>], et le reste pourra être fait de lettre minuscule, d'un <code><strong>_</strong></code> ou de chiffres. Cependant, il ne faut aucun espace !"
   ]
  },
  {
   "cell_type": "markdown",
   "id": "fcecb9f1",
   "metadata": {},
   "source": [
    "### 3.1 Affectation"
   ]
  },
  {
   "cell_type": "markdown",
   "id": "c14863b2",
   "metadata": {},
   "source": [
    "<p>Pour affecter (ou donner) une valeur à une variable, on utilise le signe <code>=</code>.</p>\n",
    "<p> A gauche de celui-ci nous mettrons toujours le nom de la variable, et à droite la valeur à affecter. L'ordre est important, car si il n'est pas respecté, le programme ne fonctionnera pas !</p>"
   ]
  },
  {
   "cell_type": "code",
   "execution_count": 2,
   "id": "5b17384a",
   "metadata": {},
   "outputs": [],
   "source": [
    "variable = 123"
   ]
  },
  {
   "cell_type": "code",
   "execution_count": 3,
   "id": "99256c03",
   "metadata": {},
   "outputs": [
    {
     "ename": "SyntaxError",
     "evalue": "cannot assign to literal (2682757866.py, line 1)",
     "output_type": "error",
     "traceback": [
      "\u001b[1;36m  Input \u001b[1;32mIn [3]\u001b[1;36m\u001b[0m\n\u001b[1;33m    123 = variable\u001b[0m\n\u001b[1;37m    ^\u001b[0m\n\u001b[1;31mSyntaxError\u001b[0m\u001b[1;31m:\u001b[0m cannot assign to literal\n"
     ]
    }
   ],
   "source": [
    "123 = variable"
   ]
  },
  {
   "cell_type": "markdown",
   "id": "446b693f",
   "metadata": {},
   "source": [
    "<p>Evidemment, si vous essayez d'utiliser une variable qui n'a pas été définie, le programme plante aussi.</p>"
   ]
  },
  {
   "cell_type": "code",
   "execution_count": 10,
   "id": "47fd6ece",
   "metadata": {},
   "outputs": [
    {
     "ename": "NameError",
     "evalue": "name 'z' is not defined",
     "output_type": "error",
     "traceback": [
      "\u001b[1;31m---------------------------------------------------------------------------\u001b[0m",
      "\u001b[1;31mNameError\u001b[0m                                 Traceback (most recent call last)",
      "Input \u001b[1;32mIn [10]\u001b[0m, in \u001b[0;36m<cell line: 1>\u001b[1;34m()\u001b[0m\n\u001b[1;32m----> 1\u001b[0m \u001b[38;5;28mprint\u001b[39m(\u001b[43mz\u001b[49m)\n",
      "\u001b[1;31mNameError\u001b[0m: name 'z' is not defined"
     ]
    }
   ],
   "source": [
    "print(z)"
   ]
  },
  {
   "cell_type": "markdown",
   "id": "08cc2cf8",
   "metadata": {},
   "source": [
    "<p>Il est aussi possible de créer une variable à l'aide non pas d'une valeur mais d'une expression !</p>"
   ]
  },
  {
   "cell_type": "code",
   "execution_count": 5,
   "id": "61e0ba96",
   "metadata": {},
   "outputs": [],
   "source": [
    "x = (2 + 2) * 3"
   ]
  },
  {
   "cell_type": "markdown",
   "id": "6c9fa34a",
   "metadata": {},
   "source": [
    "<p>L'ordinateur va d'abord calculer l'expression donnée (soit <code>2+2</code> puis <code>4*3</code> ) et stockera la valeur obtenu dans la variable !</p>"
   ]
  },
  {
   "cell_type": "code",
   "execution_count": 6,
   "id": "9fed9521",
   "metadata": {},
   "outputs": [
    {
     "name": "stdout",
     "output_type": "stream",
     "text": [
      "12\n"
     ]
    }
   ],
   "source": [
    "print(x)"
   ]
  },
  {
   "cell_type": "markdown",
   "id": "b35110ac",
   "metadata": {},
   "source": [
    "### 3.2 L'utilité des variables"
   ]
  },
  {
   "cell_type": "markdown",
   "id": "9ada9804",
   "metadata": {},
   "source": [
    "<p>Comme dit plus haut, les variables seront utiles pour stocker des informations, mais dans les programmes que nous avons fait ici, elles n'ont aucune utilités. Par contre, quand nous avons besoin de recevoir des informations, ou d'utiliser des valeurs plus tard dans le programme, alors elles deviennent utiles !</p>"
   ]
  },
  {
   "cell_type": "code",
   "execution_count": 9,
   "id": "d86bd9f6",
   "metadata": {},
   "outputs": [
    {
     "name": "stdout",
     "output_type": "stream",
     "text": [
      "Veuillez donner votre âge s'il vous plaît : 18\n",
      "Veuillez rentrer la couleur de vos yeux : marrons\n",
      "Vous avez 18 ans, et vous avez les yeux marrons\n"
     ]
    }
   ],
   "source": [
    "age = int(input(\"Veuillez donner votre âge s'il vous plaît : \"))\n",
    "cYeux = input(\"Veuillez rentrer la couleur de vos yeux : \")\n",
    "\n",
    "print(\"Vous avez\", age , \"ans, et vous avez les yeux \" + cYeux)"
   ]
  },
  {
   "cell_type": "markdown",
   "id": "8440f31c",
   "metadata": {},
   "source": [
    "<p>Ici, les variables sont obligatoires, et vous les utiliserez tout le temps dans vos programmes !</p>"
   ]
  },
  {
   "cell_type": "markdown",
   "id": "79f9b915",
   "metadata": {},
   "source": [
    "## 4.  Type de données, opérations et conversions"
   ]
  },
  {
   "cell_type": "markdown",
   "id": "07c71979",
   "metadata": {},
   "source": [
    "<p> On sait maintenant comment créer et utiliser une variable, mais il faut maintenant savoir quels types de données sont disponibles, et leur fonctionnement !</p>"
   ]
  },
  {
   "cell_type": "markdown",
   "id": "b351ac25",
   "metadata": {},
   "source": [
    "### 4.1 Les nombres"
   ]
  },
  {
   "cell_type": "markdown",
   "id": "edc053fd",
   "metadata": {},
   "source": [
    "<p> Il existe en programmation différents types de nombres qui seront toujours disponible pour vous : <p>\n",
    "<ul>\n",
    "    <li>- Les nombres entiers tels que <code>7</code> ou <code>-7</code> qui sont des <code>int</code>, ou integer</li>\n",
    "    <li>- Les nombres à virgules, tels que <code>3.14</code> ou <code>-69.420</code> qui seront des <code>float</code></li>\n",
    "</ul>\n",
    "\n",
    "<p>Attention à l'écriture des floats, ce n'est pas une virgule mais bien un point !</p>"
   ]
  },
  {
   "cell_type": "markdown",
   "id": "34acfbf5",
   "metadata": {},
   "source": [
    "<p>Vous pourrez d'ailleurs obtenir la \"type\" d'une variable à l'aide de la fonction <code>type()</code>.</p>"
   ]
  },
  {
   "cell_type": "code",
   "execution_count": 13,
   "id": "b7b39797",
   "metadata": {},
   "outputs": [
    {
     "name": "stdout",
     "output_type": "stream",
     "text": [
      "<class 'int'>\n",
      "<class 'float'>\n"
     ]
    }
   ],
   "source": [
    "a = 0\n",
    "b = 0.0\n",
    "print(type(a))\n",
    "print(type(b))"
   ]
  },
  {
   "cell_type": "markdown",
   "id": "c109d5bc",
   "metadata": {},
   "source": [
    "Différents types d'opérations sont disponibles pour les chiffres qu'ils soient de class <code>int</code> ou <code>float</code>, le tableau suivant vous en fait une synthèse, mais comprenez bien qu'il existe <strong>beaucoup</strong> plus d'opérations que cela"
   ]
  },
  {
   "cell_type": "markdown",
   "id": "3004f2ff",
   "metadata": {},
   "source": [
    "| Expression |Résultat avec `x` et `y` des nombres, entiers ou flottants|\n",
    "|------------|----------------------------------------------------------|\n",
    "| x + y      |    somme de `x` et de `y`                                |\n",
    "| x - y      | différence de `x` par `y`                                |\n",
    "| x * y      | produit de `x` par `y`                                   |\n",
    "| x / y      | division réelle de `x` par `y`                           |\n",
    "| x // y     | division entière de `x` par `y` (seulement int)          |\n",
    "| x%y        | reste de la division entière de `x` et `y` (ou modulo)   |\n",
    "| -x         | opposé de `x`                                            |\n",
    "| x**y       | `x` à la puissance `y`                                   |\n",
    "| abs(x)     | valeur absolue de `x`                                    |"
   ]
  },
  {
   "cell_type": "markdown",
   "id": "0f2fd6f7",
   "metadata": {},
   "source": [
    "### 4.2 Les chaines de caractères"
   ]
  },
  {
   "cell_type": "markdown",
   "id": "6d3a8e7d",
   "metadata": {},
   "source": [
    "<p> Nous allons maintenant voir comment utiliser des chaînes de caractères en Python !</p>\n",
    "\n",
    "<p> Pour ce faire, nous allons utiliser un nouveau type de données, les <code>str</code>, ou <code>string</code> tel que :</p>"
   ]
  },
  {
   "cell_type": "code",
   "execution_count": 14,
   "id": "cb784ae3",
   "metadata": {},
   "outputs": [
    {
     "name": "stdout",
     "output_type": "stream",
     "text": [
      "hello world\n"
     ]
    }
   ],
   "source": [
    "print(\"hello world\")"
   ]
  },
  {
   "cell_type": "markdown",
   "id": "0a1e9c56",
   "metadata": {},
   "source": [
    "<p> Qui permet d'afficher la chaîne de caractère <i>hello world</i>.</p>\n",
    "<p> Les chaînes de caractères sont, en Python, défini à l'aide de <code><strong>\"\"</strong></code> ou <code><strong>''</strong></code>, et il est possible de créer une chaîne de caractères vides.</p>"
   ]
  },
  {
   "cell_type": "code",
   "execution_count": 15,
   "id": "e2e5ae08",
   "metadata": {},
   "outputs": [
    {
     "name": "stdout",
     "output_type": "stream",
     "text": [
      "\n"
     ]
    }
   ],
   "source": [
    "chaine = \"\"\n",
    "print(chaine)"
   ]
  },
  {
   "cell_type": "markdown",
   "id": "4d348dad",
   "metadata": {},
   "source": [
    "<p> Attention cependant, la casse (Majuscule/Minuscule) ainsi que les espaces sont pris en compte dans les chaînes de caractères !</p>\n",
    "\n",
    "<p> Et comme pour les nombres, les chaînes de caractères ont elles aussi des opérations applicables !</p>"
   ]
  },
  {
   "cell_type": "markdown",
   "id": "971c95f8",
   "metadata": {},
   "source": [
    "| Expression | Résultats, `s` et `t` étant des `str`     |\n",
    "|----------- |------------------------------------------ |\n",
    "| s + t      | Concaténation de s et t (mise bout à bout)|\n",
    "| len(s)     | longueur de s                             |\n",
    "| s.lower()  | s entièrement en minuscule                |\n",
    "| s.upper()  | s entièrement en majuscule                |"
   ]
  },
  {
   "cell_type": "code",
   "execution_count": 16,
   "id": "280e749f",
   "metadata": {},
   "outputs": [
    {
     "name": "stdout",
     "output_type": "stream",
     "text": [
      "HelloWorld\n",
      "5\n",
      "hello\n",
      "WORLD\n"
     ]
    }
   ],
   "source": [
    "s = \"Hello\"\n",
    "t = \"World\"\n",
    "\n",
    "print(s+t)\n",
    "print(len(s))\n",
    "print(s.lower())\n",
    "print(t.upper())"
   ]
  },
  {
   "cell_type": "markdown",
   "id": "e2f911b9",
   "metadata": {},
   "source": [
    "<p> Il peut cependant exister des \"incompatibilités en certaines expressions. En effet, vouloir utiliser l'opérateur <code>+</code> entre une chaîne de caractère et un nombre ne marche pas.</p>"
   ]
  },
  {
   "cell_type": "code",
   "execution_count": 20,
   "id": "b3c2e4ef",
   "metadata": {},
   "outputs": [
    {
     "ename": "TypeError",
     "evalue": "can only concatenate str (not \"int\") to str",
     "output_type": "error",
     "traceback": [
      "\u001b[1;31m---------------------------------------------------------------------------\u001b[0m",
      "\u001b[1;31mTypeError\u001b[0m                                 Traceback (most recent call last)",
      "Input \u001b[1;32mIn [20]\u001b[0m, in \u001b[0;36m<cell line: 3>\u001b[1;34m()\u001b[0m\n\u001b[0;32m      1\u001b[0m s \u001b[38;5;241m=\u001b[39m \u001b[38;5;124m\"\u001b[39m\u001b[38;5;124mJ\u001b[39m\u001b[38;5;124m'\u001b[39m\u001b[38;5;124maime le chiffre\u001b[39m\u001b[38;5;124m\"\u001b[39m\n\u001b[0;32m      2\u001b[0m t \u001b[38;5;241m=\u001b[39m \u001b[38;5;241m1\u001b[39m\n\u001b[1;32m----> 3\u001b[0m \u001b[38;5;28mprint\u001b[39m(\u001b[43ms\u001b[49m\u001b[38;5;241;43m+\u001b[39;49m\u001b[43mt\u001b[49m)\n",
      "\u001b[1;31mTypeError\u001b[0m: can only concatenate str (not \"int\") to str"
     ]
    }
   ],
   "source": [
    "s = \"J'aime le chiffre\"\n",
    "t = 1\n",
    "print(s+t)"
   ]
  },
  {
   "cell_type": "markdown",
   "id": "b2949536",
   "metadata": {},
   "source": [
    "## 4.3 Les booleans"
   ]
  },
  {
   "cell_type": "markdown",
   "id": "20f6d891",
   "metadata": {},
   "source": [
    "<p>Un autre type de données que l'on voit en permanence sont les booleans. Ils peuvent prendre seulement deux valeurs : <code>True</code> ou <code>False</code></p>\n",
    "\n",
    "<p>Ces données seront principalement utilisé lors de test de condition que nous verront dans les prochains cours</p>"
   ]
  },
  {
   "cell_type": "code",
   "execution_count": 1,
   "id": "e3aefb2e",
   "metadata": {},
   "outputs": [
    {
     "name": "stdout",
     "output_type": "stream",
     "text": [
      "<class 'bool'>\n"
     ]
    }
   ],
   "source": [
    "true = True\n",
    "false = False\n",
    "\n",
    "print(type(true))"
   ]
  },
  {
   "cell_type": "markdown",
   "id": "7533d478",
   "metadata": {},
   "source": [
    "### 4.4 Conversion de type"
   ]
  },
  {
   "cell_type": "markdown",
   "id": "28a38854",
   "metadata": {},
   "source": [
    "<p>Il peut parfois être utile de transformer une chaîne de caractères en un nombre et vice-versa. Pour ce faire, on utilise trois opérations :</p>"
   ]
  },
  {
   "cell_type": "markdown",
   "id": "5599783a",
   "metadata": {},
   "source": [
    "|Expression | Résultat                            |\n",
    "|-----------|-------------------------------------|\n",
    "| int(val)  | transforme la valeur en un `int`    |\n",
    "| float(val)| transforme la valeur en un `float`  |\n",
    "| str(val)  | transforme la valeur en un `str`    |  "
   ]
  },
  {
   "cell_type": "code",
   "execution_count": 22,
   "id": "135663dc",
   "metadata": {},
   "outputs": [
    {
     "name": "stdout",
     "output_type": "stream",
     "text": [
      "<class 'int'>\n",
      "--------\n",
      "<class 'str'>\n",
      "--------\n",
      "<class 'float'>\n"
     ]
    }
   ],
   "source": [
    "val = 42\n",
    "print(type(val))\n",
    "print(\"--------\")\n",
    "print(type(str(val)))\n",
    "print(\"--------\")\n",
    "print(type(float(val)))"
   ]
  },
  {
   "cell_type": "markdown",
   "id": "30176452",
   "metadata": {},
   "source": [
    "<p> Il est toujours utile de savoir que la transformation d'un <code>float</code> à un <code>int</code> fera perdre la précision qu'il y avait avec la virgule.</p>"
   ]
  },
  {
   "cell_type": "code",
   "execution_count": 24,
   "id": "e7e3f6bc",
   "metadata": {},
   "outputs": [
    {
     "name": "stdout",
     "output_type": "stream",
     "text": [
      "1.23\n",
      "-------\n",
      "1\n",
      "-------\n",
      "1.0\n"
     ]
    }
   ],
   "source": [
    "val = 1.23\n",
    "print(val)\n",
    "print(\"-------\")\n",
    "val = int(val)\n",
    "print(val)\n",
    "print(\"-------\")\n",
    "val = float(val)\n",
    "print(val)"
   ]
  },
  {
   "cell_type": "markdown",
   "id": "68ec3b85",
   "metadata": {},
   "source": [
    "## 5. Entrées / Sorties"
   ]
  },
  {
   "cell_type": "markdown",
   "id": "94e85dbf",
   "metadata": {},
   "source": [
    "<p>Il faut maintenant pouvoir afficher ou recevoir des informations. Pour ce faire, nous allons utiliser deux fonctions, <code>input()</code> et <code>print()</code>, des fonctions que j'ai déjà utilisées dans les codes plus haut.</p>\n",
    "\n",
    "<p>La fonction <code>input()</code> nous permet de recevoir des entrées, qui seront de base des chaînes de caractères. Si on veut entrer des nombres, il nous faudra alors utiliser en plus les fonctions de conversions de types décrites plus haut</p>"
   ]
  },
  {
   "cell_type": "code",
   "execution_count": 1,
   "id": "016215e4",
   "metadata": {},
   "outputs": [
    {
     "name": "stdout",
     "output_type": "stream",
     "text": [
      "Rentrer une chaîne de caractère5\n",
      "<class 'str'>\n",
      "Rentrer un nombre flottant12\n",
      "<class 'float'>\n",
      "Rentrer un nombre entier659\n",
      "<class 'int'>\n"
     ]
    }
   ],
   "source": [
    "chaine = input(\"Rentrer une chaîne de caractère\")\n",
    "print(type(chaine))\n",
    "\n",
    "flottant = float(input(\"Rentrer un nombre flottant\"))\n",
    "print(type(flottant))\n",
    "\n",
    "entier = int(input(\"Rentrer un nombre entier\"))\n",
    "print(type(entier))"
   ]
  },
  {
   "cell_type": "markdown",
   "id": "d6f77a06",
   "metadata": {},
   "source": [
    "<p>La fonction <code>print()</code> quant à elle nous permet d'envoyer des informations en sortie, ce qui est fort pratique pour avoir un retour de la part de notre programme !</p>\n",
    "\n",
    "<p>On peut aussi associer des nombres et des chaînes de caractères sans que le programme plante grâce à l'expression <code>,</code></p>"
   ]
  },
  {
   "cell_type": "code",
   "execution_count": 2,
   "id": "54aa8ae1",
   "metadata": {},
   "outputs": [
    {
     "name": "stdout",
     "output_type": "stream",
     "text": [
      "Bonjour les enfants, aujourd'hui, le chiffre du jour est le\n",
      "1\n",
      "Bonjour les enfants, aujourd'hui, le chiffre du jour est le 1\n"
     ]
    }
   ],
   "source": [
    "chaine = \"Bonjour les enfants, aujourd'hui, le chiffre du jour est le\"\n",
    "jour = 1\n",
    "print(chaine)\n",
    "print(jour)\n",
    "print(chaine,jour)"
   ]
  },
  {
   "cell_type": "markdown",
   "id": "f1f68e83",
   "metadata": {},
   "source": [
    "## 6. Conclusion"
   ]
  },
  {
   "cell_type": "markdown",
   "id": "1b521045",
   "metadata": {},
   "source": [
    "<p>Le premier cours est maintenant terminé !</p>\n",
    "<p>Vous pouvez maintenant passer au td pour vous entraîner à programmer quelques petits programme afin d'appliquer les notions vues dans ce cours ^^</p>"
   ]
  }
 ],
 "metadata": {
  "kernelspec": {
   "display_name": "Python 3 (ipykernel)",
   "language": "python",
   "name": "python3"
  },
  "language_info": {
   "codemirror_mode": {
    "name": "ipython",
    "version": 3
   },
   "file_extension": ".py",
   "mimetype": "text/x-python",
   "name": "python",
   "nbconvert_exporter": "python",
   "pygments_lexer": "ipython3",
   "version": "3.9.12"
  },
  "toc": {
   "base_numbering": 1,
   "nav_menu": {
    "height": "361px",
    "width": "327px"
   },
   "number_sections": false,
   "sideBar": false,
   "skip_h1_title": false,
   "title_cell": "Table of Contents",
   "title_sidebar": "Contents",
   "toc_cell": false,
   "toc_position": {},
   "toc_section_display": true,
   "toc_window_display": false
  }
 },
 "nbformat": 4,
 "nbformat_minor": 5
}
