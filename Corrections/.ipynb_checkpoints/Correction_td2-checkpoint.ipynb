{
 "cells": [
  {
   "cell_type": "markdown",
   "id": "463cdd9e",
   "metadata": {},
   "source": [
    "# <center>Chapitre 2 : Alternatives - Correction</center>"
   ]
  },
  {
   "cell_type": "markdown",
   "id": "71fb1664",
   "metadata": {},
   "source": [
    "## Exercice 1 : Trace de programme\n",
    "\n",
    "<p> Donner la trace du programme, c'est-à-dire donner l'affichage obtenu par l'exécution du programme</p>"
   ]
  },
  {
   "cell_type": "code",
   "execution_count": null,
   "id": "9224c2f2",
   "metadata": {},
   "outputs": [],
   "source": [
    "x = 65\n",
    "print(x > 65)\n",
    "print(x < 11 or (x > 87 and x < 100))\n",
    "print(x != 65.1)\n",
    "test = not(x > 10 and x<= 123) and x%5 == 0\n",
    "print(test)\n",
    "test = not(test)\n",
    "print(test)\n",
    "print(not(test))"
   ]
  },
  {
   "cell_type": "markdown",
   "id": "33b97256",
   "metadata": {},
   "source": [
    "<p>On obtient le rendu suivant :</p>\n",
    "<ul>\n",
    "    <li>False</li>\n",
    "    <li>False</li>\n",
    "    <li>True</li>\n",
    "    <li>False</li>\n",
    "    <li>True</li>\n",
    "    <li>False</li>\n",
    "</ul>"
   ]
  },
  {
   "cell_type": "markdown",
   "id": "cfda8005",
   "metadata": {},
   "source": [
    "## Exercice 2 : Affichage d'un test\n",
    "\n",
    "1. Écrire un programme qui demande à l'utilisateur un nombre entier. Si ce nombre est impair et positif ou si il est pair et compris entre 123 et 999 il faut que le programme affiche <code>True</code>. Dans le cas contraire, il doit afficher <code>False</code>.\n",
    "\n",
    "2. Donner un jeu d'essai (4 tests significatifs) et prévoir les résultats.\n",
    "\n",
    "<p><strong>Aide :</strong> Il existe l'opérateur <i><code>modulo / %</code></i> qui permet de calculer le reste de la division euclidienne. Par exemple, <code>10%2</code> vaut <code>0</code>."
   ]
  },
  {
   "cell_type": "code",
   "execution_count": null,
   "id": "25f6060b",
   "metadata": {},
   "outputs": [],
   "source": [
    "nb = int(input(\"Veuillez rentrer un nombre entier : \"))\n",
    "if nb%2 == 0 and nb>=123 and nb<=999 or nb%2 == 1 and nb > 0 :\n",
    "    print(True)\n",
    "else :\n",
    "    print(False)"
   ]
  },
  {
   "cell_type": "markdown",
   "id": "ba7a1323",
   "metadata": {},
   "source": [
    "<p>Un jeu d'essai pourrait être :</p>\n",
    "<ul>\n",
    "    <li><code>nb = -7</code></li>\n",
    "    <li><code>nb = 7</code></li>\n",
    "    <li><code>nb = 2</code></li>\n",
    "    <li><code>nb = 344</code></li>\n",
    "</ul>"
   ]
  },
  {
   "cell_type": "markdown",
   "id": "542be48f",
   "metadata": {},
   "source": [
    "## Exercice 3 : Questions en <code>if</code>"
   ]
  },
  {
   "cell_type": "markdown",
   "id": "3775cc82",
   "metadata": {},
   "source": [
    "### Question 1 : L'indentation\n",
    "<p>Qu'est ce qu'une indentation ? Quel est son interêt ?</p>\n",
    "\n",
    "<p><i>Une indentation est le petit espace en début de ligne, et permet de séparer les blocs d'instructions</i></p>\n",
    "\n",
    "### Question 2 : Else\n",
    "<p>Le <code>else</code> est-il obligatoire après un <code>if</code>? Après un <code>if/elif</code> ?</p>\n",
    "\n",
    "<p><i>Un else n'est aucunement obligatoire, que ce soit après un <code>if</code> ou un <code>if/elif</code></i></p>\n",
    "\n",
    "### Question 3 : Imbrication de <code>if</code>\n",
    "<p>Dans le programme suivant, quelles instructions dépendent du premier <code>if</code> ? Et du deuxième <code>if</code> ?"
   ]
  },
  {
   "cell_type": "code",
   "execution_count": null,
   "id": "ef133cfe",
   "metadata": {},
   "outputs": [],
   "source": [
    "A = 1              #1\n",
    "B = 0              #2\n",
    "print(1)           #3\n",
    "if A>2:            #4\n",
    "    print(2)       #5\n",
    "    if B>=A:       #6\n",
    "        print(3)   #7\n",
    "    print(4)       #8\n",
    "print(5)           #9"
   ]
  },
  {
   "cell_type": "markdown",
   "id": "9c46b018",
   "metadata": {},
   "source": [
    "<ul>\n",
    "    <li><i>Pour le premier <code>if</code>, cela va de la 5eme à la 8eme ligne</i></li>\n",
    "    <li><i>Pour le second <code>if</code>, cela ne comprends que la 7eme ligne</i></li>"
   ]
  },
  {
   "cell_type": "markdown",
   "id": "5642d7e8",
   "metadata": {},
   "source": [
    "<p>Qu'affiche le programme dans les différents cas qui suivent ?</p>\n",
    "<ul>\n",
    "    <li>quand <code>A = 1</code> et <code>B = 6</code> : 1 / 5</li>\n",
    "    <li>quand <code>A = 8</code> et <code>B = 9</code> : 1 / 2 / 3 / 4 / 5</li>\n",
    "    <li>quand <code>A = 3</code> et <code>B = 2</code> : 1 / 2 / 4 / 5</li>\n",
    "</ul>"
   ]
  },
  {
   "cell_type": "markdown",
   "id": "75cce4ea",
   "metadata": {},
   "source": [
    "## Exercice 4 : L'affichage de B\n",
    "<p>Pour quelle(s) valeur(s) de <code>A</code> l'instruction <code>print(\"B\")</code> est-elle exécutée dans chacun des codes ci-dessous ?"
   ]
  },
  {
   "cell_type": "code",
   "execution_count": null,
   "id": "8f9d0bc2",
   "metadata": {},
   "outputs": [],
   "source": [
    "if A>10:\n",
    "    print(\"A\")\n",
    "else:\n",
    "    print(\"B\")"
   ]
  },
  {
   "cell_type": "code",
   "execution_count": null,
   "id": "097a9bb9",
   "metadata": {},
   "outputs": [],
   "source": [
    "if A>10:\n",
    "    print(\"A\")\n",
    "elif A> 30:\n",
    "    print(\"B\")"
   ]
  },
  {
   "cell_type": "code",
   "execution_count": null,
   "id": "f7d85aad",
   "metadata": {},
   "outputs": [],
   "source": [
    "if A>10:\n",
    "    print(\"A\")\n",
    "if A>200:\n",
    "    print(\"B\")"
   ]
  },
  {
   "cell_type": "code",
   "execution_count": null,
   "id": "59c64faf",
   "metadata": {},
   "outputs": [],
   "source": [
    "if A>10 and A<10:\n",
    "    print(\"A\")\n",
    "else:\n",
    "    print(\"B\")"
   ]
  },
  {
   "cell_type": "markdown",
   "id": "ddd65ec6",
   "metadata": {},
   "source": [
    "<ul>\n",
    "    <li>1er code : <code>A<=10</code></li>\n",
    "    <li>2eme code : Jamais</li>\n",
    "    <li>3eme code : <code>A>200</code></li>\n",
    "    <li>4eme code : Pour toutes valeurs de A\n",
    "</ul>"
   ]
  },
  {
   "cell_type": "markdown",
   "id": "a67f1064",
   "metadata": {},
   "source": [
    "## Exercice 5 : L'affichage de C\n",
    "\n",
    "<p>Pour quelle(s) valeur(s) de <code>A</code> l'instruction <code>print(\"C\")</code> est-elle exécutée ?</p>"
   ]
  },
  {
   "cell_type": "code",
   "execution_count": null,
   "id": "a8c4a1b3",
   "metadata": {},
   "outputs": [],
   "source": [
    "if A < 789:\n",
    "   print(\"A\")\n",
    "elif A>=789:\n",
    "   print(\"B\")\n",
    "else:\n",
    "   print(\"C\")"
   ]
  },
  {
   "cell_type": "markdown",
   "id": "0e610ed6",
   "metadata": {},
   "source": [
    "<p>L'instruction <code>print(\"C\")</code> ne sera absolument jamais exécutée !</p>"
   ]
  },
  {
   "cell_type": "markdown",
   "id": "e8530538",
   "metadata": {},
   "source": [
    "## Exercice 6 : Réduction du nombre de tests*\n",
    "<p>Peut-on réduire le nombre de tests dans le programme suivant ? Si oui, comment ?</p>\n",
    "\n",
    "<p>Indication : Il y a 6 tests effectué actuellement</p>"
   ]
  },
  {
   "cell_type": "code",
   "execution_count": null,
   "id": "ecd24d68",
   "metadata": {},
   "outputs": [],
   "source": [
    "A=float(input())\n",
    "if A <= 10:\n",
    "   print(\"A\")\n",
    "elif A> 10  and A <= 50:\n",
    "   print(\"B\")\n",
    "elif A> 50  and A < 100:\n",
    "   print(\"C\")\n",
    "elif A >=100:\n",
    "   print(\"D\")"
   ]
  },
  {
   "cell_type": "markdown",
   "id": "e505d963",
   "metadata": {},
   "source": [
    "<p>Exemple de code réduit avec trois tests:</p>"
   ]
  },
  {
   "cell_type": "code",
   "execution_count": null,
   "id": "49f36b5c",
   "metadata": {},
   "outputs": [],
   "source": [
    "A = float(input(\"Veuillez rentrer un nombre : \"))\n",
    "if A<= 10 :\n",
    "    print(\"A\")\n",
    "elif A <= 50 :\n",
    "    print(\"B\")\n",
    "elif A < 100 :\n",
    "    print(\"C\")\n",
    "else :\n",
    "    print(\"D\")"
   ]
  },
  {
   "cell_type": "markdown",
   "id": "6ca43d9c",
   "metadata": {},
   "source": [
    "## Exercice 7 : Différence de deux nombres*\n",
    "\n",
    "<p>Écrire un algorithme qui demande deux nombres entiers à l'utilisateur et calcule la différence entre le plus grand nombre et le plus petit nombre, quel que soit l'ordre de saisie (il ne faut donc pas obtenir un résultat négatif).</p>"
   ]
  },
  {
   "cell_type": "code",
   "execution_count": null,
   "id": "7e3e932b",
   "metadata": {},
   "outputs": [],
   "source": [
    "nb1 = int(input(\"Veuillez rentrer un nombre entier : \"))\n",
    "nb2 = int(input(\"Veuillez rentrer un nombre entier : \"))\n",
    "res = 0\n",
    "\n",
    "if nb1 < nb2 :\n",
    "    res = nb2-nb1\n",
    "else :\n",
    "    res = nb1-nb2\n",
    "\n",
    "print(\"Le résultat obtenu est : \",res)"
   ]
  },
  {
   "cell_type": "markdown",
   "id": "c68d795d",
   "metadata": {},
   "source": [
    "## Exercice 8 : Calcul de gabarit*\n",
    "\n",
    "<p>On veut définir le gabarit d'un objet en fonction de sa taille. Le gabarit peut prendre les valeurs <code>\"Grand\"</code>, <code>Moyen</code>, ou <code>Petit</code> selon que la taille soit respectivement supérieure ou égale à 12, comprise entre 12 (non incluse) et 2(non incluse) ou inférieur ou égale à 2.</p>\n",
    "\n",
    "<p>Écrire un programme qui demande à l'utilisateur la taille d'un objet et affiche après l'avoir déterminé le gabarit correspondant.</p>"
   ]
  },
  {
   "cell_type": "code",
   "execution_count": null,
   "id": "3d3536cd",
   "metadata": {},
   "outputs": [],
   "source": [
    "taille = float(input(\"Veuillez rentrer la taille de votre objet : \"))\n",
    "\n",
    "if taille >= 12 :\n",
    "    gabarit = \"Grand\"\n",
    "elif taille <= 2 :\n",
    "    gabarit = \"Petit\"\n",
    "else :\n",
    "    gabarit = \"Moyen\"\n",
    "\n",
    "print(\"Le gabarit de votre objet est\",gabarit)"
   ]
  },
  {
   "cell_type": "markdown",
   "id": "f0da94f9",
   "metadata": {},
   "source": [
    "## Exercice 9 : Racine d'un polynôme du second degré**\n",
    "\n",
    "<p>Écrire un algorithme qui calcule et affiche les racines réelles d'un polynôme du second degré.</p>\n",
    "\n",
    "<p><a href=\"https://youtu.be/tc9wvbYuZts\"><strong>NB :</strong>Ce sont les racines réelles de l'équation <strong>ax² + bx + c = 0</strong></a></p>\n",
    "\n",
    "<p><strong>Remarque :</strong> En Python, on obtient la raciné carrée d'un nombre <code>x</code> grâce à l'appel math.sqrt(x). Il faut auparavant avoir importé le module <code>math</code> grâce à l'instruction <code>import math</code>.</p>"
   ]
  },
  {
   "cell_type": "code",
   "execution_count": null,
   "id": "88edbc9d",
   "metadata": {},
   "outputs": [],
   "source": [
    "import math\n",
    "\n",
    "print(\"Calcul de la / les racines réelles de l'équation ax² + bx + c = 0\")\n",
    "a = int(input(\"Quel est la valeur de a : \"))\n",
    "b = int(input(\"Quel est la valeur de b : \"))\n",
    "c = int(input(\"Quel est la valeur de c : \"))\n",
    "\n",
    "delta = b**2 - 4*a*c\n",
    "print(delta)\n",
    "if delta > 0 :\n",
    "    x1 = (-b - math.sqrt(delta))/2*a\n",
    "    x2 = (-b + math.sqrt(delta))/2*a\n",
    "    print(\"Les racines de l'équation sont : \",x1, \"et\",x2)\n",
    "elif delta == 0 :\n",
    "    x = -b/2*a\n",
    "    print(\"L'unique racide de l'équation est : \",x)\n",
    "else :\n",
    "    print(\"Nous ne calculerons pas ici les racines irréelles !\")"
   ]
  },
  {
   "cell_type": "markdown",
   "id": "81b8afd7",
   "metadata": {},
   "source": [
    "## Bonus pour s'entraîner encore plus"
   ]
  },
  {
   "cell_type": "markdown",
   "id": "1f73c367",
   "metadata": {},
   "source": [
    "## Exercice 10 : Celsius vs Farhenheit*\n",
    "\n",
    "<p>Pour mesurer une température, il existe plusieurs unités de mesure. Il est notamment possible de mesurer une température en degrés Celsius ou en degré Fahrenheit et la relation est la suivante :</p>\n",
    "$$T(°F) = \\frac{9}{5} T(°C) + 32.$$\n",
    "\n",
    "### Question 1 :\n",
    "\n",
    "<p>Écrire un programme permettant à l'utilisateur de saisir une valeur flottante ainsi que son choix :</p>\n",
    "\n",
    "    1. Convertir cette valeur en degré Fahrenheit si la valeur saisie est en Celsius\n",
    "    2. Convertir cette valeur en degré Celsius si la valeur saisie est en Celsius.\n",
    "<p>Et qui affichera le résultat obtenu</p>"
   ]
  },
  {
   "cell_type": "code",
   "execution_count": 30,
   "id": "e27a0433",
   "metadata": {},
   "outputs": [
    {
     "name": "stdout",
     "output_type": "stream",
     "text": [
      "Quel unité à été choisie ? (F/C) : C\n",
      "Rentrez la température : 23.2\n",
      "La température en degrés Farhenheit est de :  73.75999999999999 °F\n"
     ]
    }
   ],
   "source": [
    "unité = input(\"Quel unité à été choisie ? (F/C) : \")\n",
    "unité = unité.lower()\n",
    "base = float(input(\"Rentrez la température : \"))\n",
    "if unité == \"c\" : \n",
    "    faren = 9/5 * base + 32\n",
    "    print(\"La température en degrés Farhenheit est de : \",faren, \"°F\")\n",
    "elif unité == \"f\" :\n",
    "    celsius = 5/9*(faren-32)\n",
    "    print(\"La température en degrés Celsius est de : \",celsius,\"°C\")\n",
    "else :\n",
    "    print(\"Ceci n'est pas une unité possible !\")"
   ]
  },
  {
   "cell_type": "markdown",
   "id": "613a73bc",
   "metadata": {},
   "source": [
    "### Question 2 :\n",
    "\n",
    "<p>Écrire un programme permettant à l'utilisateur de saisir deux températures, la première en degrés Celsius et la seconde en degré Fahrenheit. Le programme affiche alors si les deux températures sont équivalentes ou non. </p>\n",
    "\n",
    "<p>Attention cependant, les valeurs étant des floats, vous ne pourrez pas les comparer avec le symbole <code>==</code>, à vous de trouver, à l'aide d'internet, comment faire !</p>"
   ]
  },
  {
   "cell_type": "markdown",
   "id": "b7b32000",
   "metadata": {},
   "source": [
    "<p><strong>CORRECTION</strong></p>\n",
    "<p>L'égalité de deux flottants est un souci qui pose énormément de problèmes en programmation comme il vous sera montré dans le code pile en dessous. Une des méthodes  pour faire ceci utilisés consiste à créer un seuil de tolérance pour que l'on puisse dire si ils sont \"égaux\" si la différence entre deux flottants est assez petite. Mais aucun besoin de s'embêter à cela, car la bibliothèque <code>math</code> possède la fonction <code>.isclose()</code> qui fait cela pour nous ! </p>"
   ]
  },
  {
   "cell_type": "code",
   "execution_count": 27,
   "id": "ca372b52",
   "metadata": {},
   "outputs": [
    {
     "name": "stdout",
     "output_type": "stream",
     "text": [
      "False\n",
      "0.10000000000000001\n",
      "0.20000000000000001\n",
      "0.29999999999999999\n"
     ]
    }
   ],
   "source": [
    "print(0.1 + 0.2 == 0.3) #Un petit peu embétant !\n",
    "#On peut voir que les nombres flottants ne sont pas stockés comme 0.1, mais comme 0.1000...01 !\n",
    "print(format(0.1,\".17g\")) #0.1 est stocké comme un résultat à peine plus grand !\n",
    "print(format(0.2,\".17g\")) #0.2 est stocké comme un résultat à peine plus grand aussi !\n",
    "print(format(0.3,\".17g\")) #0.3 quant à lui est stocké dans la mémoire comme un chiffre à peine plus petit !"
   ]
  },
  {
   "cell_type": "code",
   "execution_count": 32,
   "id": "a7e1ab6c",
   "metadata": {},
   "outputs": [
    {
     "name": "stdout",
     "output_type": "stream",
     "text": [
      "Veuillez saisir la température en Farenheit ; 73.75999999999\n",
      "Veuillez saisir la température en Celsius : 23.2\n",
      "73.75999999999999 True\n"
     ]
    }
   ],
   "source": [
    "import math\n",
    "\n",
    "faren = float(input(\"Veuillez saisir la température en Farenheit ; \"))\n",
    "celsius = float(input(\"Veuillez saisir la température en Celsius : \"))\n",
    "print(faren2,math.isclose(faren, 9/5 * celsius+ 32))"
   ]
  },
  {
   "cell_type": "markdown",
   "id": "5e815a72",
   "metadata": {},
   "source": [
    "## Exercice 11 : Facture pour la reprographie\n",
    "\n",
    "<p>Un magasin de reprographie facture 0.10€ les dix premières photocopies, 0.09€ les vingts suivantes et 0.08€ au-delà. Ainsi, 18 photocopies coûtent 1.72€ (10*0.10 + 8*0.09). Écrire un programme qui demande à l'utilisateur le nombre de photocopies à effectuer et qui affiche la facture correspondante.</p>"
   ]
  },
  {
   "cell_type": "code",
   "execution_count": 34,
   "id": "92c58661",
   "metadata": {},
   "outputs": [
    {
     "name": "stdout",
     "output_type": "stream",
     "text": [
      "De combien de copie avez vous besoin ? 800\n",
      "Très bien, cela vous fera : 64.4 €\n"
     ]
    }
   ],
   "source": [
    "nb_copie = int(input(\"De combien de copie avez vous besoin ? \"))\n",
    "if nb_copie<=10 :\n",
    "    prix = nb_copie *0.10\n",
    "elif nb_copie<=30 :\n",
    "    prix = 10*0.10 + (nb_copie-10)*0.09\n",
    "else :\n",
    "    prix = 10*0.10 + 20*0.09 + (nb_copie-30)*0.08\n",
    "print(\"Très bien, cela vous fera :\",prix,\"€\")"
   ]
  },
  {
   "cell_type": "markdown",
   "id": "ada8941d",
   "metadata": {},
   "source": [
    "## Exercice 12 : L'impôt \n",
    "\n",
    "<p> Dans le pays de Vico, les habitants paient l'impôt selon d'étranges règles :</p>\n",
    "<ul>\n",
    "    <li>Les hommes de plus de 22 ans paient l'impôt.</li>\n",
    "    <li>Les femmes entre 78 et 122 ans inclus paient l'impôt</li>\n",
    "    <li>Les autres ne paient aucun impôt.</li>\n",
    "</ul>\n",
    "\n",
    "<p>Écrire un programme demandant l'âge et le sexe du Viconien qui affichera si l'habitant est imposable ou non</p>"
   ]
  },
  {
   "cell_type": "code",
   "execution_count": 35,
   "id": "b6ae0e8a",
   "metadata": {},
   "outputs": [
    {
     "name": "stdout",
     "output_type": "stream",
     "text": [
      "Quel est le sexe de l'habitant(e) ? (H/F) : h\n",
      "Quel est l'âge de l'habitant(e) ? : 23\n",
      "Vous êtes imposable !\n"
     ]
    }
   ],
   "source": [
    "sexe = input(\"Quel est le sexe de l'habitant(e) ? (H/F) : \")\n",
    "sexe = sexe.lower()\n",
    "age = int(input(\"Quel est l'âge de l'habitant(e) ? : \"))\n",
    "\n",
    "if (sexe==\"h\" and age>22) or (sexe==\"f\" and age>= 78 and age <=122):\n",
    "    print(\"Vous êtes imposable !\")\n",
    "else :\n",
    "    print(\"Vous n'êtes pas imposable !\")"
   ]
  }
 ],
 "metadata": {
  "kernelspec": {
   "display_name": "Python 3 (ipykernel)",
   "language": "python",
   "name": "python3"
  },
  "language_info": {
   "codemirror_mode": {
    "name": "ipython",
    "version": 3
   },
   "file_extension": ".py",
   "mimetype": "text/x-python",
   "name": "python",
   "nbconvert_exporter": "python",
   "pygments_lexer": "ipython3",
   "version": "3.9.12"
  },
  "toc": {
   "base_numbering": 1,
   "nav_menu": {},
   "number_sections": false,
   "sideBar": false,
   "skip_h1_title": false,
   "title_cell": "Table of Contents",
   "title_sidebar": "Contents",
   "toc_cell": false,
   "toc_position": {},
   "toc_section_display": false,
   "toc_window_display": false
  }
 },
 "nbformat": 4,
 "nbformat_minor": 5
}
