{
 "cells": [
  {
   "cell_type": "markdown",
   "id": "38bdca09",
   "metadata": {},
   "source": [
    "# <center>Chapitre 3 : Les boucles - Correction</center>"
   ]
  },
  {
   "cell_type": "markdown",
   "id": "af39acf1",
   "metadata": {},
   "source": [
    "## Exercice 1 : Affichage décroissant\n",
    "\n",
    "<p>Affichez, à l'aide d'une boucle <code>while</code> et d'une boucle <code>for</code> deux programmes qui affichent les entiers de 1 à 20 dans l'ordre décroissant</p>"
   ]
  },
  {
   "cell_type": "code",
   "execution_count": null,
   "id": "2e3b6297",
   "metadata": {},
   "outputs": [],
   "source": [
    "for i in range(20):\n",
    "    print(20-i)"
   ]
  },
  {
   "cell_type": "code",
   "execution_count": null,
   "id": "9b574fb7",
   "metadata": {},
   "outputs": [],
   "source": [
    "i=0\n",
    "while i<20 :\n",
    "    print(20-i)\n",
    "    i += 1"
   ]
  },
  {
   "cell_type": "markdown",
   "id": "c78f0ee6",
   "metadata": {},
   "source": [
    "## Exercice 2 : Saisie contrôlée\n",
    "\n",
    "<p>Écrire un programme demandant à l'utilisateur un entier positif et multiple de 5. La saisie sera répétée jusqu'à ce que le nombre rentrée respecte les conditions énoncés</p>"
   ]
  },
  {
   "cell_type": "code",
   "execution_count": null,
   "id": "0c298a7e",
   "metadata": {},
   "outputs": [],
   "source": [
    "nb = -1\n",
    "while nb%2!=0 or nb%5!=0 :\n",
    "    nb = int(input(\"Veuillez rentrer un nombre positif multiple de 5 : \"))"
   ]
  },
  {
   "cell_type": "markdown",
   "id": "19b11fa9",
   "metadata": {},
   "source": [
    "## Exercice 3 : Table de multiplication\n",
    "\n",
    "<p>Créer un programme qui affiche la table de multiplication de 42 pour les entiers de 1 jusqu'à 20 comme suit : </p>\n",
    "\n",
    "```python\n",
    "42 * 1 = 42\n",
    "42 * 2 = 84\n",
    "...\n",
    "```"
   ]
  },
  {
   "cell_type": "code",
   "execution_count": null,
   "id": "f37e0614",
   "metadata": {},
   "outputs": [],
   "source": [
    "for i in range(1,21):\n",
    "    print(\"42 *\",i,\"=\",i*42)"
   ]
  },
  {
   "cell_type": "code",
   "execution_count": null,
   "id": "61bef15e",
   "metadata": {},
   "outputs": [],
   "source": [
    "i = 1\n",
    "while i<21:\n",
    "    print(\"42 *\",i,\"=\",i*42)\n",
    "    i+=1"
   ]
  },
  {
   "cell_type": "markdown",
   "id": "cadd38e3",
   "metadata": {},
   "source": [
    "## Exercice 4 : Somme de pairs et somme d'impairs\n",
    "\n",
    "<p>Écrire un programme permettant de calculer et d'afficher séparément les sommes d'une part des nombres pairs et d'autre part des nombres impairs compris entre <code>1</code> et <code>100</code> inclus."
   ]
  },
  {
   "cell_type": "code",
   "execution_count": null,
   "id": "e811825e",
   "metadata": {},
   "outputs": [],
   "source": [
    "sommePair = 0\n",
    "sommeImpair = 0\n",
    "for i in range(1,101):\n",
    "    if i%2 == 0 :\n",
    "        sommePair += i\n",
    "    else :\n",
    "        sommeImpair += i\n",
    "        \n",
    "print(\"Somme pair :\",sommePair)\n",
    "print(\"Somme impair\", sommeImpair )"
   ]
  },
  {
   "cell_type": "code",
   "execution_count": null,
   "id": "9da54f46",
   "metadata": {},
   "outputs": [],
   "source": [
    "sommePair = 0\n",
    "sommeImpair = 0\n",
    "i = 1\n",
    "while i<=100:\n",
    "    if i%2 == 0 :\n",
    "        sommePair += i\n",
    "    else :\n",
    "        sommeImpair += i\n",
    "    i+=1\n",
    "    \n",
    "print(\"Somme pair :\",sommePair)\n",
    "print(\"Somme impair\", sommeImpair )"
   ]
  },
  {
   "cell_type": "markdown",
   "id": "804fbc52",
   "metadata": {},
   "source": [
    "## Exercice 5 : Boucle sans fin\n",
    "\n",
    "<p>Écrire un programme affichant indéfiniment les entiers successifs à partir de 0</p>"
   ]
  },
  {
   "cell_type": "code",
   "execution_count": null,
   "id": "fd153c9e",
   "metadata": {
    "scrolled": true
   },
   "outputs": [],
   "source": [
    "continuer = True\n",
    "i = 0\n",
    "while continuer:\n",
    "    print(i)\n",
    "    i += 1"
   ]
  },
  {
   "cell_type": "markdown",
   "id": "9e43848a",
   "metadata": {},
   "source": [
    "## Exercice 6 : Calcul d'intérêts*\n",
    "On veut modéliser l'évolution d'un compte bancaire permettant de placer de l'argent à taux fixe.\n",
    "Définir un programme permettant :\n",
    "\n",
    "- de saisir le taux d'intérêt annuel du compte,\n",
    "- de saisir une somme initiale placée sur le compte,\n",
    "- de saisir la durée en années du placement.\n",
    "\n",
    "Autrement dit, quand la somme sur le compte en banque est 100 euros et le taux d'intérêt annuel du compte est de 10%,  la somme disponible sur le compte est 100 \\* (1+10/100)= 110&euro; au bout d'une année et 110 \\* (1+10/100)= 121&euro; au bout de deux années.\n",
    "\n",
    "Le programme calcule et affiche le solde du compte à l'issue de la durée du placement.\n",
    "\n",
    "On utilisera d'ailleurs la fonction <code>round()</code> pour faire des arrondis, ne pouvant pas avoir des millièmes d'euros, qui peut prendre deux paramètres :\n",
    "- un obligatoire, qui est le nombre à arrondir\n",
    "- Le second, optionnel, nous permet de choisir à quelle décimale arrondir notre nombre. Si rien n'est précisé, alors l'arrondi se fera à l'entier"
   ]
  },
  {
   "cell_type": "code",
   "execution_count": null,
   "id": "68e83d7d",
   "metadata": {},
   "outputs": [],
   "source": [
    "print(round(5.1334))\n",
    "print(round(5.13487, 2))"
   ]
  },
  {
   "cell_type": "code",
   "execution_count": null,
   "id": "35d8f083",
   "metadata": {},
   "outputs": [],
   "source": [
    "taux = float(input(\"Veuillez saisir votre taux d'intérêt (Pour 10%, mettez 10) : \"))\n",
    "somme = float(input(\"Quelle somme est placée sur le compte ? \"))\n",
    "durée = int(input(\"Combien d'années votre placement va t'il durer ? \"))\n",
    "\n",
    "for i in range(durée):\n",
    "    somme = round(somme + (somme*taux/100),2)\n",
    "\n",
    "print(\"Le solde de votre compte à la fin du placement sera de \",somme)"
   ]
  },
  {
   "cell_type": "markdown",
   "id": "d11c5bd7",
   "metadata": {},
   "source": [
    "## Bonus : Utilisation de <code>turtle</code>\n",
    "\n",
    "<p>Le module <code>Turtle</code> permet de dessiner à l'écran des figures. Il nous permet alors de réaliser les actions suivantes :</p>\n",
    "<ul>\n",
    "    <li><code>goto(x,y)</code> : aller aux coordonnées x et y</li>\n",
    "    <li><code>forward(distance)</code> : avancer d'une distance donnée</li>\n",
    "    <li><code>backward(distance)</code> : reculer d'une distance donnée</li>\n",
    "    <li><code>left(angle)</code> : tourner à gauche d'un angle donnée (en dégrès)</li>\n",
    "    <li><code>right(angle)</code> : tourner à droite d'un angle donnée (en dégrès)</li>\n",
    "    <li><code>up()</code> : lever le crayon pour ne plus dessiner en avançant</li>\n",
    "    <li><code>down()</code> : baisser le crayon pour recommencer à dessiner</li>\n",
    "    <li><code>done()</code> : pour terminer le programme </li>\n",
    "</ul>\n",
    "\n",
    "<p>Il existe plein d'autres fonctions disponible que vous pourrez retrouver dans <a href=\"https://docs.python.org/fr/3/library/turtle.html\">la documentation en ligne de turtle</a></p>\n",
    "\n",
    "<p>L'exécution d'un programme avec python ouvrira une nouvelle fenêtre automatiquement, et il vous faudra la fermer vous même pour réutiliser un programme turtle sous jupyter notebook. De plus, la fermeture de la fenêtre peut entraîner un petit soucis lors du lancement d'un programme, n'hésitez pas à le relancer une seconde fois</p>\n",
    "\n",
    "<p>Un petit exemple :</p>"
   ]
  },
  {
   "cell_type": "code",
   "execution_count": 2,
   "id": "2c6566b9",
   "metadata": {},
   "outputs": [],
   "source": [
    "from turtle import *\n",
    "forward(100)\n",
    "left(90)\n",
    "forward(50)\n",
    "goto(0,0)\n",
    "done()"
   ]
  },
  {
   "cell_type": "markdown",
   "id": "b9c069b9",
   "metadata": {},
   "source": [
    "### Exercice 1 : Carré\n",
    "\n",
    "<p>Utiliser turtle pour réaliser un carré. Vous ferez attention à réduire le nombre de ligne de votre programme au maximum à l'aide de boucles</p>"
   ]
  },
  {
   "cell_type": "code",
   "execution_count": 4,
   "id": "482aafce",
   "metadata": {},
   "outputs": [],
   "source": [
    "for i in range(4):\n",
    "    forward(100)\n",
    "    left(90)\n",
    "done()"
   ]
  },
  {
   "cell_type": "markdown",
   "id": "2ee4f94c",
   "metadata": {},
   "source": [
    "### Exercice 2 : Escalier montant\n",
    "\n",
    "<p>Écrire un programme à l'aide de turtle et d'une boucle pour réaliser un dessin d'un escalier montant à dix marches comme ceci :</p>"
   ]
  },
  {
   "cell_type": "code",
   "execution_count": 31,
   "id": "b3026798",
   "metadata": {},
   "outputs": [],
   "source": [
    "up()\n",
    "goto(-200,-200)\n",
    "down()\n",
    "left(90)\n",
    "for i in range(10):\n",
    "    forward(30)\n",
    "    right(90)\n",
    "    forward(30)\n",
    "    left(90)\n",
    "done()"
   ]
  },
  {
   "cell_type": "markdown",
   "id": "9072b9cb",
   "metadata": {},
   "source": [
    "### Exercice 3 : Monter pour mieux redescendre\n",
    "\n",
    "<p>Réaliser un programme à l'aide de turtle et de boucles pour réaliser le dessin d'un escalier montant, puis descendant comme ceci : </p>"
   ]
  },
  {
   "cell_type": "code",
   "execution_count": 6,
   "id": "fa981eeb",
   "metadata": {},
   "outputs": [],
   "source": [
    "up()\n",
    "goto(-180,-150)\n",
    "down()\n",
    "for i in range(5):\n",
    "    forward(30)\n",
    "    left(90)\n",
    "    forward(30)\n",
    "    right(90)\n",
    "for i in range(5):\n",
    "    forward(30)\n",
    "    right(90)\n",
    "    forward(30)\n",
    "    left(90)\n",
    "forward(30)  \n",
    "done()"
   ]
  },
  {
   "cell_type": "markdown",
   "id": "772ba943",
   "metadata": {},
   "source": [
    "### Exercice 4 : Spirale\n",
    "\n",
    "<p>Créer un programme à l'aide de turtle et d'une boucle pour réaliser une spirale comme ceci :</p>"
   ]
  },
  {
   "cell_type": "code",
   "execution_count": 8,
   "id": "3c88f0a4",
   "metadata": {},
   "outputs": [],
   "source": [
    "up()\n",
    "goto(-200,200)\n",
    "down()\n",
    "pas = 400\n",
    "for i in range(10):\n",
    "    for j in range(2) :\n",
    "        forward(pas)\n",
    "        right(90)\n",
    "    pas -= 40\n",
    "done()"
   ]
  },
  {
   "cell_type": "markdown",
   "id": "c22ae70c",
   "metadata": {},
   "source": [
    "### Exercice 5 : Imagination \n",
    "\n",
    "<p>Utiliser votre imagination pour réaliser les dessins de vos envies à l'aide de turtle, aucune règle en particulier à respecter !</p>\n",
    "\n",
    "<p>Des exemples sont disponibles dans le fichier de correction !</p>"
   ]
  },
  {
   "cell_type": "code",
   "execution_count": 12,
   "id": "aca8bf7e",
   "metadata": {},
   "outputs": [],
   "source": [
    "speed(1)\n",
    "color(\"red\",\"black\")\n",
    "\n",
    "reset()\n",
    "\n",
    "#base\n",
    "\n",
    "begin_fill()\n",
    "left(180)\n",
    "circle(-100,180)\n",
    "circle(-50,180)\n",
    "circle(50,180)  \n",
    "end_fill()\n",
    "circle(100,180)\n",
    "\n",
    "#Point noir\n",
    "\n",
    "penup()\n",
    "goto(0,65)\n",
    "pendown()\n",
    "begin_fill()\n",
    "circle(15)\n",
    "end_fill()\n",
    "\n",
    "#Point blanc\n",
    "\n",
    "up()\n",
    "goto(0,165)\n",
    "fillcolor(\"white\")\n",
    "begin_fill()\n",
    "circle(15)\n",
    "end_fill()\n",
    "\n",
    "hideturtle()\n",
    "done()"
   ]
  },
  {
   "cell_type": "code",
   "execution_count": 14,
   "id": "5b3c45fc",
   "metadata": {},
   "outputs": [],
   "source": [
    "reset()\n",
    "pencolor(\"red\")\n",
    "up()\n",
    "speed(2)\n",
    "goto(-250,-250)\n",
    "color(\"red\",\"red\")\n",
    "\n",
    "#cadre\n",
    "\n",
    "begin_fill()\n",
    "for i in range(2):\n",
    "    forward(90)\n",
    "    left(90)\n",
    "    forward(330)\n",
    "    left(90)\n",
    "    \n",
    "end_fill()\n",
    "\n",
    "forward(450)\n",
    "\n",
    "begin_fill()\n",
    "\n",
    "for i in range(2):\n",
    "    forward(90)\n",
    "    left(90)\n",
    "    forward(330)\n",
    "    left(90)\n",
    "    \n",
    "end_fill()\n",
    "up()\n",
    "\n",
    "#ENFER\n",
    "#premiere feuille ;-;\n",
    "\n",
    "goto(30,-230)\n",
    "begin_fill()\n",
    "\n",
    "forward(5)\n",
    "left(95)\n",
    "forward(60)\n",
    "\n",
    "right(100)\n",
    "forward(70)\n",
    "\n",
    "left(125)\n",
    "forward(35)\n",
    "right(95)\n",
    "forward(90)\n",
    "\n",
    "left(125)\n",
    "forward(30)\n",
    "\n",
    "right(95)\n",
    "forward(40)\n",
    "\n",
    "left(120)\n",
    "forward(40)\n",
    "\n",
    "right(95)\n",
    "forward(30)\n",
    "left(120)\n",
    "forward(50)\n",
    "\n",
    "\n",
    "\n",
    "#deuxième feuille T-T\n",
    "\n",
    "right(120)\n",
    "forward(70)\n",
    "left(120)\n",
    "forward(40)\n",
    "\n",
    "right(80)\n",
    "forward(80)\n",
    "left(120)\n",
    "forward(80)\n",
    "\n",
    "right(80)\n",
    "forward(40)\n",
    "left(120)\n",
    "forward(70)\n",
    "\n",
    "\n",
    "#troisième feuille TTTTT----TTTTT\n",
    "\n",
    "right(120)\n",
    "forward(50)\n",
    "left(120)\n",
    "forward(30)\n",
    "right(95)\n",
    "\n",
    "forward(40)\n",
    "left(120)\n",
    "\n",
    "forward(40)\n",
    "right(95)\n",
    "\n",
    "forward(30)\n",
    "left(125)\n",
    "\n",
    "forward(90)\n",
    "right(95)\n",
    "forward(35)\n",
    "left(125)\n",
    "\n",
    "forward(70)\n",
    "right(100)\n",
    "\n",
    "forward(60)\n",
    "left(95)\n",
    "forward(5)\n",
    "\n",
    "\n",
    "end_fill()\n",
    "done()"
   ]
  },
  {
   "cell_type": "code",
   "execution_count": 16,
   "id": "7fe55e84",
   "metadata": {},
   "outputs": [],
   "source": [
    "reset()\n",
    "bgcolor(\"black\")\n",
    "color(\"red\", \"pink\")\n",
    "speed(5)\n",
    "def curve():\n",
    "    for i in range(200):\n",
    "        forward(1)\n",
    "        right(1)\n",
    "        \n",
    "        \n",
    "begin_fill()\n",
    "left(140)\n",
    "forward(111.65)\n",
    "\n",
    "curve()\n",
    "\n",
    "left(120)\n",
    "\n",
    "curve()\n",
    "\n",
    "forward(111.65)\n",
    "\n",
    "end_fill()\n",
    "hideturtle()\n",
    "\n",
    "done()"
   ]
  }
 ],
 "metadata": {
  "kernelspec": {
   "display_name": "Python 3 (ipykernel)",
   "language": "python",
   "name": "python3"
  },
  "language_info": {
   "codemirror_mode": {
    "name": "ipython",
    "version": 3
   },
   "file_extension": ".py",
   "mimetype": "text/x-python",
   "name": "python",
   "nbconvert_exporter": "python",
   "pygments_lexer": "ipython3",
   "version": "3.9.12"
  },
  "toc": {
   "base_numbering": 1,
   "nav_menu": {},
   "number_sections": false,
   "sideBar": false,
   "skip_h1_title": false,
   "title_cell": "Table of Contents",
   "title_sidebar": "Contents",
   "toc_cell": false,
   "toc_position": {},
   "toc_section_display": false,
   "toc_window_display": false
  }
 },
 "nbformat": 4,
 "nbformat_minor": 5
}
