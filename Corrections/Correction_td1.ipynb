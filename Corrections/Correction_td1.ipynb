{
 "cells": [
  {
   "cell_type": "markdown",
   "id": "d02535c7",
   "metadata": {},
   "source": [
    "# <center>Chapitre 1 : Introduction et Variable - Correction</center>"
   ]
  },
  {
   "cell_type": "markdown",
   "id": "78422385",
   "metadata": {},
   "source": [
    "### Exercice 0 : Bonjour le monde !\n",
    "<p>Ecrivez un programme qui affiche <code>hello world</code>.</p>"
   ]
  },
  {
   "cell_type": "code",
   "execution_count": 2,
   "id": "7566a650",
   "metadata": {},
   "outputs": [
    {
     "name": "stdout",
     "output_type": "stream",
     "text": [
      "hello world !\n"
     ]
    }
   ],
   "source": [
    "print(\"hello world !\")"
   ]
  },
  {
   "cell_type": "markdown",
   "id": "4ae85a4d",
   "metadata": {},
   "source": [
    "### Exercice 1 : Séquences d'instructions\n",
    "\n",
    "Qu'affichent les programmes suivants ?"
   ]
  },
  {
   "cell_type": "markdown",
   "id": "79aaaebb",
   "metadata": {},
   "source": [
    "<p>Premier programme :</p>\n",
    "<p>1</p>\n",
    "<p>2</p>\n",
    "<p>3</p>\n",
    "\n",
    "<p>Second programme :</p>\n",
    "<p>2</p>\n",
    "<p>1</p>\n",
    "<p>3</p>"
   ]
  },
  {
   "cell_type": "markdown",
   "id": "f26cadb8",
   "metadata": {},
   "source": [
    "### Exercice 2 : Noms de variables\n",
    "Parmi ces exemples, seuls certains sont des noms de variable valides. Lesquels ?\n",
    "- `x`\n",
    "- `x1`\n",
    "- `X1`\n",
    "- `toto`\n",
    "- `éric`\n",
    "- `_eric`\n",
    "- `t_42`\n",
    "- `24_t`"
   ]
  },
  {
   "cell_type": "markdown",
   "id": "e041a4b2",
   "metadata": {},
   "source": [
    "<p>Les bons noms de variables sont :</p>\n",
    "<ul>\n",
    "    <li>x</li>\n",
    "    <li>x1</li>\n",
    "    <li>X1</li>\n",
    "    <li>toto</li>\n",
    "    <li>éric (mais les accents sont à éviter)</li>\n",
    "    <li>_éric (mais à éviter aussi</li>\n",
    "    <li>t_42</li>"
   ]
  },
  {
   "cell_type": "markdown",
   "id": "a7b8e3fc",
   "metadata": {},
   "source": [
    "### Exercice 3: Modification de variables\n",
    "\n",
    "<p>Qu'affiche le programme suivant ? </p>"
   ]
  },
  {
   "cell_type": "code",
   "execution_count": null,
   "id": "0d87c71f",
   "metadata": {},
   "outputs": [],
   "source": [
    "toto = 4\n",
    "print(toto)\n",
    "toto = 5 + 5\n",
    "print(toto)\n",
    "tata = toto + 4\n",
    "print(tata)\n",
    "tata = tata + 5\n",
    "print(toto)\n",
    "tata = tata + (toto*2)\n",
    "print(tata)"
   ]
  },
  {
   "cell_type": "markdown",
   "id": "6e2d9554",
   "metadata": {},
   "source": [
    "<p>Le programme suivant affichera :</p>\n",
    "<p>4</p>\n",
    "<p>10</p>\n",
    "<p>14</p>\n",
    "<p>10</p>\n",
    "<p>39</p>"
   ]
  },
  {
   "cell_type": "markdown",
   "id": "24d104cc",
   "metadata": {},
   "source": [
    "### Exercice 4 : Modification de variables 2\n",
    "\n",
    "<p>Qu'affiche le programme suivant ?</p>"
   ]
  },
  {
   "cell_type": "code",
   "execution_count": null,
   "id": "a91e4d91",
   "metadata": {},
   "outputs": [],
   "source": [
    "a=1\n",
    "b=2\n",
    "a=b\n",
    "b=a\n",
    "print(a)\n",
    "print(b)"
   ]
  },
  {
   "cell_type": "markdown",
   "id": "008c83a0",
   "metadata": {},
   "source": [
    "<p>Le programme suivant affiche : </p>\n",
    "<p>2</p>\n",
    "<p>2</p>"
   ]
  },
  {
   "cell_type": "markdown",
   "id": "98170a3f",
   "metadata": {},
   "source": [
    "Qu'affiche le programme suivant ?"
   ]
  },
  {
   "cell_type": "code",
   "execution_count": null,
   "id": "c6b5434d",
   "metadata": {},
   "outputs": [],
   "source": [
    "a=1\n",
    "b=2\n",
    "b=a\n",
    "a=b\n",
    "print(a)\n",
    "print(b)"
   ]
  },
  {
   "cell_type": "markdown",
   "id": "6af853ae",
   "metadata": {},
   "source": [
    "<p>Le programme suivant affiche : </p>\n",
    "<p>1</p>\n",
    "<p>1</p>"
   ]
  },
  {
   "cell_type": "markdown",
   "id": "a96ca567",
   "metadata": {},
   "source": [
    "### Exercice 5 : Echange des valeurs de deux variables\n",
    "<p>Réaliser un programme échangeant la valeur de deux variables.</p>"
   ]
  },
  {
   "cell_type": "code",
   "execution_count": 14,
   "id": "cce38e4b",
   "metadata": {},
   "outputs": [
    {
     "name": "stdout",
     "output_type": "stream",
     "text": [
      "a est égal à 3 et b est égal à 5\n",
      "a est égal à 5 et b est égal à 3\n"
     ]
    }
   ],
   "source": [
    "a = 3\n",
    "b = 5\n",
    "print(\"a est égal à\",a,\"et b est égal à\",b)\n",
    "\n",
    "tmp = a\n",
    "a = b\n",
    "b = tmp\n",
    "print(\"a est égal à\",a,\"et b est égal à\",b)"
   ]
  },
  {
   "cell_type": "markdown",
   "id": "3aa932ed",
   "metadata": {},
   "source": [
    "### Exercice 6 : Types numériques\n",
    "<p>A chaque ligne du programme suivant, donner la valeur et le type des variables à gauche de l'opérateur d'affectation <code>=</code>."
   ]
  },
  {
   "cell_type": "code",
   "execution_count": 23,
   "id": "b0fb2be4",
   "metadata": {},
   "outputs": [],
   "source": [
    "a = 1.0\n",
    "b = 2\n",
    "c = a + 1\n",
    "d = b + 3\n",
    "c = float(d)\n",
    "a = c / b\n",
    "a = int(c) // b"
   ]
  },
  {
   "cell_type": "markdown",
   "id": "18000423",
   "metadata": {},
   "source": [
    "<ul>\n",
    "    <li>1ere ligne : a est un float de valeur 1.0</li>\n",
    "    <li>2eme ligne : b est un int de valeur 2</li>\n",
    "    <li>3eme ligne : c est un float de valeur 2.0</li>\n",
    "    <li>4eme ligne : d est un int de valeur 5</li>\n",
    "    <li>5eme ligne : c est un float de valeur 5.0</li>\n",
    "    <li>6eme ligne : a est un float de valeur 2.5</li>\n",
    "    <li>7eme ligne : a est un int de valeur 2 </li>\n",
    "</ul>"
   ]
  },
  {
   "cell_type": "markdown",
   "id": "633535a8",
   "metadata": {},
   "source": [
    "### Exercice 7 : L'addition\n",
    "\n",
    "<p>Donner la valeur des expressions suivantes :</p>\n",
    "<p><code>123 + 123</code></p>\n",
    "<p><code>\"123\" + \"123\"</code></p>\n",
    "<p><code>123 + \"123\"</code></p>\n",
    "<p><code>\"123 + 123\"</code></p>"
   ]
  },
  {
   "cell_type": "markdown",
   "id": "4775a857",
   "metadata": {},
   "source": [
    "<ul>\n",
    "    <li>246</li>\n",
    "    <li>123123</li>\n",
    "    <li>Fait planter le programme</li>\n",
    "    <li>\"123 + 123\"</li>\n",
    "</ul>"
   ]
  },
  {
   "cell_type": "markdown",
   "id": "e08bce67",
   "metadata": {},
   "source": [
    "### Exercice 8 : Saisie de chaînes de caractères au clavier\n",
    "\n",
    "<p>Qu'affiche le programme suivant, à supposer que l'utilisateur saisisse <code>123</code> puis <code>456</code> ?</p>"
   ]
  },
  {
   "cell_type": "code",
   "execution_count": null,
   "id": "62cbf2af",
   "metadata": {},
   "outputs": [],
   "source": [
    "a = input()\n",
    "b = input()\n",
    "c = a + b\n",
    "print(c)"
   ]
  },
  {
   "cell_type": "markdown",
   "id": "5c29e523",
   "metadata": {},
   "source": [
    "<p>Quels sont les types de <code>a</code>, <code>b</code> et <code>c</code> ?</p>\n",
    "\n",
    "<ul>\n",
    "    <li>Le programme suivant affichera 123456.</li>\n",
    "    <li>a, b et c sont des <code>str</code>.</li>\n",
    "</ul>"
   ]
  },
  {
   "cell_type": "markdown",
   "id": "68cf4a39",
   "metadata": {},
   "source": [
    "### Exercice 9 : Saisie de nombre au clavier\n",
    "\n",
    "<p>Reprenez le code de l'exercice 8 et transformer le pour que le résultat obtenu à la fin soit 579, la somme de 123 et 456</p>"
   ]
  },
  {
   "cell_type": "code",
   "execution_count": null,
   "id": "d6998568",
   "metadata": {},
   "outputs": [],
   "source": [
    "a = int(input())\n",
    "b = int(input())\n",
    "c = a + b\n",
    "print(c)"
   ]
  },
  {
   "cell_type": "markdown",
   "id": "b58233b7",
   "metadata": {},
   "source": [
    "<p>De quels types sont les différentes variables à présent ?</p>\n",
    "<p>Les trois variables sont donc des entiers.</p>"
   ]
  },
  {
   "cell_type": "markdown",
   "id": "27c6c346",
   "metadata": {},
   "source": [
    "### Exercice 10 : Calcul de périmètre et d'aire\n",
    "\n",
    "<p>Créez un programme qui demandera à l'utilisateur deux nombre entiers, la largeur et la longueur d'un rectangle, et affichez la phrase suivante avec les bonnes valeurs : <i>Ce rectangle à un périmètre de <code>x</code> et une aire de <code>y</code></i>.</p>"
   ]
  },
  {
   "cell_type": "code",
   "execution_count": null,
   "id": "548f6438",
   "metadata": {},
   "outputs": [],
   "source": [
    "longueur = int(input(\"Quelle est la longueur du rectangle ? \"))\n",
    "largeur = int(input(\"Quelle est la largeur du rectangle ? \"))\n",
    "perimetre = longueur*2 + largeur*2\n",
    "aire = longueur * largeur\n",
    "print(\"Ce rectangle possède un périmètre de\", perimetre, \"et une aire de\",aire)"
   ]
  },
  {
   "cell_type": "markdown",
   "id": "7580b200",
   "metadata": {},
   "source": [
    "### Exercice 11 : Echange de nombres sans variable intermédiaire*\n",
    "\n",
    "<p>Écrire un programme qui demande à l'utilisateur deux nombres, les affiches, les échanges, et les ré-affiche sans utiliser de variables intermédiaires. Aidez vous d'addition et de soustractions.</p>\n",
    "\n",
    "<p><strong>Remarque :</strong> Cette méthode d'échange sans variable temporaire peut paraître meilleure que la méthode classique. Elle nécessite cependant que l'ordinateur effectue des additions/soustractions en plus. Surtout elle est beaucoup moins générale car elle suppose que les variables à échanger sont de type numérique : cette méthode ne fonctionne pas sur des chaînes de caractères par exemple. D'une manière générale, il y a souvent plusieurs manières de résoudre un problème. Le rôle du programmeur consiste à identifier le meilleur algorithme (le meilleur enchaînement d'instructions), compte tenu des hypothèses qu'il lui semble raisonnable de faire.</p>"
   ]
  },
  {
   "cell_type": "code",
   "execution_count": null,
   "id": "29d830f1",
   "metadata": {},
   "outputs": [],
   "source": [
    "#Nous demandons d'abord les deux nombres\n",
    "a = int(input(\"Veuillez saisir un entier : \"))\n",
    "b = int(input(\"Veuillez saisir un second entier : \"))\n",
    "print(\"a est égal à\",a,\"et b est égal à\",b)\n",
    "\n",
    "#Puis nous procédons à l'échange\n",
    "a = a + b\n",
    "b = a - b\n",
    "a = a - b\n",
    "print(\"a est égal à\",a,\"et b est égal à\",b)"
   ]
  }
 ],
 "metadata": {
  "kernelspec": {
   "display_name": "Python 3 (ipykernel)",
   "language": "python",
   "name": "python3"
  },
  "language_info": {
   "codemirror_mode": {
    "name": "ipython",
    "version": 3
   },
   "file_extension": ".py",
   "mimetype": "text/x-python",
   "name": "python",
   "nbconvert_exporter": "python",
   "pygments_lexer": "ipython3",
   "version": "3.9.12"
  },
  "toc": {
   "base_numbering": 1,
   "nav_menu": {},
   "number_sections": false,
   "sideBar": false,
   "skip_h1_title": false,
   "title_cell": "Table of Contents",
   "title_sidebar": "Contents",
   "toc_cell": false,
   "toc_position": {},
   "toc_section_display": false,
   "toc_window_display": false
  }
 },
 "nbformat": 4,
 "nbformat_minor": 5
}
