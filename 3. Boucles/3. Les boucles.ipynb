{
 "cells": [
  {
   "cell_type": "markdown",
   "id": "35379c96",
   "metadata": {},
   "source": [
    "# <center>Chapitre 3 : Les boucles</center>"
   ]
  },
  {
   "cell_type": "markdown",
   "id": "d82e1b9c",
   "metadata": {},
   "source": [
    "<p>Si je vous demandais de faire un programme qui affiche 100 fois <code>Hello World</code>, vous seriez pour le moment obligé d'écrire une centaine de lignes contenant toutes <code>print(\"Hello World\")</code>, ce qui est long, embêtant et moche. C'est pour cela que les boucles existent ! Elles sont d'une importance capitale en programmation !</p>"
   ]
  },
  {
   "cell_type": "markdown",
   "id": "c16a5ec3",
   "metadata": {},
   "source": [
    "## La boucle while"
   ]
  },
  {
   "cell_type": "markdown",
   "id": "1fbff717",
   "metadata": {},
   "source": [
    "<p>Le premier type de boucle que nous allons voir est le <code>while</code>. Cette boucle va nous permettre de répéter des instructions tant qu'une (ou plusieurs) condition est remplie, et sa mise en forme est la même que pour un <code>if</code> : </p>\n",
    "\n",
    "```python\n",
    "while expression :\n",
    "    instruction 1\n",
    "    instruction 2\n",
    "    ...\n",
    "```"
   ]
  },
  {
   "cell_type": "markdown",
   "id": "bacede30",
   "metadata": {},
   "source": [
    "<p>Voyons un premier exemple de la boucle <code>while</code> :"
   ]
  },
  {
   "cell_type": "code",
   "execution_count": null,
   "id": "ddc28380",
   "metadata": {},
   "outputs": [],
   "source": [
    "age = -1\n",
    "while age<0 : \n",
    "    age = int(input(\"Veuillez rentrez votre âge s'il vous plait : \"))\n",
    "print(\"Vous avez\",age,\"ans\")"
   ]
  },
  {
   "cell_type": "markdown",
   "id": "b0399ed3",
   "metadata": {},
   "source": [
    "<p>Ici, on veut obtenir l'âge de l'utilisateur. Il paraît donc logique que le nombre obtenu en réponse doit être positif. Malheureusement, il n'existe pas de fonction d'entrée qui ne fait rentrer que les chiffres positifs, nous devons donc utiliser une boucle pour ça. On va donc répéter l'instruction d'entrée tant que l'âge donné est négatif grâce à l'expression <code>age<0</code> que l'on va rajouter au while. Donc tant que <code>age<0</code> est égal à <code>True</code> la boucle tournera encore et toujours !</p>"
   ]
  },
  {
   "cell_type": "markdown",
   "id": "30007173",
   "metadata": {},
   "source": [
    "<p>Ici, nous avons fait une boucle jusqu'à ce qu'une variable soit conforme à nos attentes. On ne cherche donc pas à réaliser une boucle <i>un certain nombre de fois</i> mais à réaliser une boucle <i>jusqu'à avoir un résultat attendu</i>. Mais il est tout à fait possible de réaliser une boucle un certain nombre de fois voulu ! Pour cela, les instructions ressembleront à cela :</p>\n",
    "\n",
    "```python\n",
    "i = 0\n",
    "while i<6 :\n",
    "    instruction 1\n",
    "    i += 1\n",
    "```\n",
    "\n",
    "<p>Ici, on va déjà initialisé une variable <code>i</code> qui va être utilisée comme test pour la boucle : si il est strictement inférieur à 6, alors on continue, sinon ou passe à la suite ! Ensuite vient donc la boucle <code>while</code>, puis les instructions qui font partie de son bloc d'instructions. Il faudra par contre faire bien attention à la ligne <code>i += 1</code>, qui nous permet de sortir à un moment de la boucle !</p>"
   ]
  },
  {
   "cell_type": "code",
   "execution_count": null,
   "id": "4f4ac61d",
   "metadata": {},
   "outputs": [],
   "source": [
    "i = 0\n",
    "while i<10 :\n",
    "    print(i,\"+\",i,\"=\",i+i)\n",
    "    i += 1"
   ]
  },
  {
   "cell_type": "markdown",
   "id": "840d7adf",
   "metadata": {},
   "source": [
    "## Les risques des boucles"
   ]
  },
  {
   "cell_type": "markdown",
   "id": "e7cab96f",
   "metadata": {},
   "source": [
    "L'utilisation d'une boucle peut aussi être synonyme de soucis ! Le principal étant l'oubli dans l'instruction <code>i += 1</code>. En effet, dans cette situation, si l'on ne rajoute pas cela,  i<6 sera toujours vrai, donc la boucle continuera à s'exécuter sans fin. Et contrairement aux \n",
    "problèmes que l'on a vu jusqu'ici qui faisait planter le programme, rien ne vous avertira que le programme boucle sans fin, n'étant pas un \"soucis\" qui empêche l'exécution du programme ! Il vous faudra alors faire preuve de prudence lors de l'utilisation de boucle, sous peine de devoir stopper le tout vous même <i>(sur jupyter notebook, ceci consiste à arréter le kernel et le redémarrer, ce que vous pouvez faire avec les barres de navigations en haut de la page)</i>.\n",
    "\n",
    "<p>Le temps d'exécution est un autre souci qui se présente avec l'utilisation de boucles, mais nous reviendrons la dessus plus tard dans le cours. Mais il sera aussi important de se demander si le programme prend du temps car il fait des tâches complexes ou nombreuses, ou s' il boucle sans fin.</p>\n"
   ]
  },
  {
   "cell_type": "markdown",
   "id": "62f39224",
   "metadata": {},
   "source": [
    "## La boucle <code>for</code>"
   ]
  },
  {
   "cell_type": "markdown",
   "id": "485e1960",
   "metadata": {},
   "source": [
    "<p>La boucle <code>for</code> est un petit peu plus complexe que la boucle <code>while</code>, et possède des avantages ainsi qu'un principal inconvénient sur cette dernière. En effet, si avec la boucle <code>while</code> il nous était possible de ré-exécuter des instructions sans savoir à l'avance combien de fois cela sera répété, il n'est pas possible de le faire pour une boucle <code>for</code>.</p>\n",
    "\n",
    "<p>Le premier, et seul cas que nous verrons pour le moment de la boucle <code>for</code> sera <code>for i in range()</code>, n'ayant pour le moment pas vu l'utilisation de tableaux. Commençons par expliquer chaque partie de cette instruction ;</p>\n",
    "\n",
    "<ul>\n",
    "    <li><code>for</code> : Précise l'arrivé d'une boucle \"pour\".</li>\n",
    "    <li><code>i in</code> : création d'une nouvelle variable, <code>i</code>, qui prendra une valeur différente, qui sera précisé ensuite.</li>\n",
    "    <li><code>range()</code> : va nous permettre de choisir des valeurs à donner à notre variable. La fonction peut prendre trois paramètres différents :\n",
    "        <ul>\n",
    "            <li>Le premier, optionnel, qui nous dira à quel nombre commence la liste de valeur à prendre. Si rien n'est précisé, alors elle commencera à 0</li>\n",
    "            <li>La seconde, obligatoire, nous dira à quelle valeur <strong>non inclue</strong> la boucle s'arrêtera.\n",
    "            <li>La dernières, optionnel aussi, nous donnera la pas.</li>\n",
    "        </ul>\n",
    "    </li>\n",
    "</ul>\n",
    "<p>Cela fait beaucoup d'informations pour une seule petite ligne, quelques exemples devraient pouvoir nous aider à nous y retrouver</p>\n"
   ]
  },
  {
   "cell_type": "markdown",
   "id": "e10c878b",
   "metadata": {},
   "source": [
    "### Avec un seul paramètre"
   ]
  },
  {
   "cell_type": "code",
   "execution_count": null,
   "id": "5beed873",
   "metadata": {},
   "outputs": [],
   "source": [
    "for i in range(10):\n",
    "    print(i)"
   ]
  },
  {
   "cell_type": "markdown",
   "id": "f127cf7d",
   "metadata": {},
   "source": [
    "<p>Comme dit plus haut, on peut voir qu'en commençant la boucle avec un i égal à 0, nous parcourons une liste allant de 0 à 9, ce qui nous fait bien 10 nombres différents. A chaque tour de boucle, la variable i prend une valeur différente, dans l'ordre croissant. Il est courant de ce tromper dans le choix de ce paramètre lors de vos premiers programmes, mais aussi par la suite par mégarde, donc faites attention à celà</p>\n"
   ]
  },
  {
   "cell_type": "markdown",
   "id": "59ac1d5f",
   "metadata": {},
   "source": [
    "### Avec deux paramètres"
   ]
  },
  {
   "cell_type": "code",
   "execution_count": null,
   "id": "1705e656",
   "metadata": {},
   "outputs": [],
   "source": [
    "for i in range(2,10):\n",
    "    print(i)"
   ]
  },
  {
   "cell_type": "markdown",
   "id": "a7d25c5b",
   "metadata": {},
   "source": [
    "<p>En ajoutant un paramètre, on peut maintenant choisir où commencer la boucle avec le premier paramètre entré, et où la finir avec un second paramètre, qui ne sera toujours pas inclus.</p>"
   ]
  },
  {
   "cell_type": "markdown",
   "id": "f4268795",
   "metadata": {},
   "source": [
    "### Avec trois paramètres"
   ]
  },
  {
   "cell_type": "code",
   "execution_count": null,
   "id": "ec5edab5",
   "metadata": {},
   "outputs": [],
   "source": [
    "for i in range(0,10,2):\n",
    "    print(i)"
   ]
  },
  {
   "cell_type": "markdown",
   "id": "94703181",
   "metadata": {},
   "source": [
    "<p>Pour pouvoir changer le pas, il faudra obligatoirement préciser les deux premiers paramètres. Le troisième décidera de combien nous avancerons à chaque fois. Avec un pas à 2, nous avancerons dans la liste de 2 en 2.</p>"
   ]
  },
  {
   "cell_type": "code",
   "execution_count": null,
   "id": "1f1716fc",
   "metadata": {},
   "outputs": [],
   "source": []
  }
 ],
 "metadata": {
  "kernelspec": {
   "display_name": "Python 3 (ipykernel)",
   "language": "python",
   "name": "python3"
  },
  "language_info": {
   "codemirror_mode": {
    "name": "ipython",
    "version": 3
   },
   "file_extension": ".py",
   "mimetype": "text/x-python",
   "name": "python",
   "nbconvert_exporter": "python",
   "pygments_lexer": "ipython3",
   "version": "3.9.12"
  },
  "toc": {
   "base_numbering": 1,
   "nav_menu": {},
   "number_sections": true,
   "sideBar": true,
   "skip_h1_title": true,
   "title_cell": "Table of Contents",
   "title_sidebar": "Contents",
   "toc_cell": false,
   "toc_position": {
    "height": "calc(100% - 180px)",
    "left": "10px",
    "top": "150px",
    "width": "191.6px"
   },
   "toc_section_display": true,
   "toc_window_display": false
  }
 },
 "nbformat": 4,
 "nbformat_minor": 5
}
