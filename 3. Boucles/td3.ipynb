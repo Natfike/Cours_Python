{
 "cells": [
  {
   "cell_type": "markdown",
   "id": "e2776aee",
   "metadata": {},
   "source": [
    "# <center>Chapitre 3 : Les boucles - TD</center>"
   ]
  },
  {
   "cell_type": "markdown",
   "id": "8660e180",
   "metadata": {},
   "source": [
    "## Exercice 1 : Affichage décroissant\n",
    "\n",
    "<p>Affichez, à l'aide d'une boucle <code>while</code> et d'une boucle <code>for</code> deux programmes qui affichent les entiers de 1 à 20 dans l'ordre décroissant</p>"
   ]
  },
  {
   "cell_type": "code",
   "execution_count": null,
   "id": "8e84d692",
   "metadata": {},
   "outputs": [],
   "source": [
    "#-------------------------#\n",
    "#    Écrire le code ici   #\n",
    "#-------------------------#"
   ]
  },
  {
   "cell_type": "code",
   "execution_count": null,
   "id": "0fd33c04",
   "metadata": {},
   "outputs": [],
   "source": [
    "#-------------------------#\n",
    "#    Écrire le code ici   #\n",
    "#-------------------------#"
   ]
  },
  {
   "cell_type": "markdown",
   "id": "77a17d91",
   "metadata": {},
   "source": [
    "## Exercice 2 : Saisie contrôlée\n",
    "\n",
    "<p>Écrire un programme demandant à l'utilisateur un entier positif et multiple de 4. La saisie sera répétée jusqu'à ce que le nombre rentrée respecte les conditions énoncés</p>"
   ]
  },
  {
   "cell_type": "code",
   "execution_count": null,
   "id": "5857f7f1",
   "metadata": {},
   "outputs": [],
   "source": [
    "#-------------------------#\n",
    "#    Écrire le code ici   #\n",
    "#-------------------------#"
   ]
  },
  {
   "cell_type": "markdown",
   "id": "afd73201",
   "metadata": {},
   "source": [
    "## Exercice 3 : Table de multiplication\n",
    "\n",
    "<p>Créer un programme qui affiche la table de multiplication de 42 pour les entiers de 1 jusqu'à 20 comme suit : </p>\n",
    "\n",
    "```python\n",
    "42 * 1 = 42\n",
    "42 * 2 = 84\n",
    "...\n",
    "```"
   ]
  },
  {
   "cell_type": "code",
   "execution_count": null,
   "id": "ab87e7f3",
   "metadata": {},
   "outputs": [],
   "source": [
    "#-------------------------#\n",
    "#    Écrire le code ici   #\n",
    "#-------------------------#"
   ]
  },
  {
   "cell_type": "markdown",
   "id": "4256c7d4",
   "metadata": {},
   "source": [
    "## Exercice 4 : Somme pair et somme impair\n",
    "\n",
    "<p>Écrire un programme permettant de calculer et d'afficher séparément les sommes d'une part des nombres pairs et d'autre part des nombres impairs compris entre <code>1</code> et <code>100</code> inclus."
   ]
  },
  {
   "cell_type": "code",
   "execution_count": null,
   "id": "e549768b",
   "metadata": {},
   "outputs": [],
   "source": [
    "#-------------------------#\n",
    "#    Écrire le code ici   #\n",
    "#-------------------------#"
   ]
  },
  {
   "cell_type": "markdown",
   "id": "08e14891",
   "metadata": {},
   "source": [
    "## Exercice 5 : Boucle sans fin\n",
    "\n",
    "<p>Écrire un programme affichant indéfiniment les entiers successifs à partir de 0</p>"
   ]
  },
  {
   "cell_type": "code",
   "execution_count": null,
   "id": "5871bb69",
   "metadata": {},
   "outputs": [],
   "source": [
    "#-------------------------#\n",
    "#    Écrire le code ici   #\n",
    "#-------------------------#"
   ]
  },
  {
   "cell_type": "markdown",
   "id": "605db203",
   "metadata": {},
   "source": [
    "## Exercice 6 : Calcul d'intérêts*\n",
    "On veut modéliser l'évolution d'un compte bancaire permettant de placer de l'argent à taux fixe.\n",
    "Définir un programme permettant :\n",
    "\n",
    "- de saisir le taux d'intérêt annuel du compte,\n",
    "- de saisir une somme initiale placée sur le compte,\n",
    "- de saisir la durée en années du placement.\n",
    "\n",
    "Autrement dit, quand la somme sur le compte en banque est 100 euros et le taux d'intérêt annuel du compte est de 10%,  la somme disponible sur le compte est 100 \\* (1+10/100)= 110&euro; au bout d'une année et 110 \\* (1+10/100)= 121&euro; au bout de deux années.\n",
    "\n",
    "Le programme calcule et affiche le solde du compte à l'issue de la durée du placement.\n",
    "\n",
    "On utilisera d'ailleurs la fonction <code>round()</code> pour faire des arrondis, ne pouvant pas avoir des millièmes d'euros, qui peut prendre deux paramètres :\n",
    "- un obligatoire, qui est le nombre à arrondir\n",
    "- Le second, optionnel, nous permet de choisir à quelle décimale arrondir notre nombre. Si rien n'est précisé, alors l'arrondi se fera à l'entier\n"
   ]
  },
  {
   "cell_type": "code",
   "execution_count": null,
   "id": "bb7625e9",
   "metadata": {},
   "outputs": [],
   "source": [
    "print(round(5.1334))\n",
    "print(round(5.13487, 2))"
   ]
  },
  {
   "cell_type": "code",
   "execution_count": null,
   "id": "5ea4b32a",
   "metadata": {},
   "outputs": [],
   "source": [
    "#-------------------------#\n",
    "#    Écrire le code ici   #\n",
    "#-------------------------#"
   ]
  },
  {
   "cell_type": "markdown",
   "id": "5581192f",
   "metadata": {},
   "source": [
    "## Bonus : Utilisation de <code>turtle</code>\n",
    "\n",
    "<p>Le module <code>Turtle</code> permet de dessiner à l'écran des figures. Il nous permet alors de réaliser les actions suivantes :</p>\n",
    "<ul>\n",
    "    <li><code>goto(x,y)</code> : aller aux coordonnées x et y</li>\n",
    "    <li><code>forward(distance)</code> : avancer d'une distance donnée</li>\n",
    "    <li><code>backward(distance)</code> : reculer d'une distance donnée</li>\n",
    "    <li><code>left(angle)</code> : tourner à gauche d'un angle donnée (en dégrès)</li>\n",
    "    <li><code>right(angle)</code> : tourner à droite d'un angle donnée (en dégrès)</li>\n",
    "    <li><code>up()</code> : lever le crayon pour ne plus dessiner en avançant</li>\n",
    "    <li><code>down()</code> : baisser le crayon pour recommencer à dessiner</li>\n",
    "    <li><code>done()</code> : pour terminer le programme </li>\n",
    "</ul>\n",
    "\n",
    "<p>Il existe plein d'autres fonctions disponible que vous pourrez retrouver dans <a href=\"https://docs.python.org/fr/3/library/turtle.html\">la documentation en ligne de turtle</a></p>\n",
    "\n",
    "<p>L'exécution d'un programme avec python ouvrira une nouvelle fenêtre automatiquement, et il vous faudra la fermer vous même pour réutiliser un programme turtle sous jupyter notebook. De plus, la fermeture de la fenêtre peut entraîner un petit soucis lors du lancement d'un programme, n'hésitez pas à le relancer une seconde fois</p>\n",
    "\n",
    "<p>Un petit exemple :</p>"
   ]
  },
  {
   "cell_type": "code",
   "execution_count": 5,
   "id": "793fa717",
   "metadata": {},
   "outputs": [],
   "source": [
    "from turtle import *\n",
    "forward(100)\n",
    "left(90)\n",
    "forward(50)\n",
    "goto(0,0)\n",
    "done()"
   ]
  },
  {
   "cell_type": "markdown",
   "id": "af5cca0f",
   "metadata": {},
   "source": [
    "### Exercice 1 : Carré\n",
    "\n",
    "<p>Utiliser turtle pour réaliser un carré. Vous ferez attention à réduire le nombre de ligne de votre programme au maximum à l'aide de boucles</p>"
   ]
  },
  {
   "cell_type": "code",
   "execution_count": null,
   "id": "ced5b411",
   "metadata": {},
   "outputs": [],
   "source": [
    "#-------------------------#\n",
    "#    Écrire le code ici   #\n",
    "#-------------------------#"
   ]
  },
  {
   "cell_type": "markdown",
   "id": "149f7846",
   "metadata": {},
   "source": [
    "### Exercice 2 : Escalier montant\n",
    "\n",
    "<p>Écrire un programme à l'aide de turtle et d'une boucle pour réaliser un dessin d'un escalier montant à dix marches comme ceci :</p>\n",
    "\n",
    "<img src=\"img/escalier.jpg\" alt=\"escalier\" width=\"300px\">"
   ]
  },
  {
   "cell_type": "code",
   "execution_count": null,
   "id": "ec050732",
   "metadata": {},
   "outputs": [],
   "source": [
    "#-------------------------#\n",
    "#    Écrire le code ici   #\n",
    "#-------------------------#"
   ]
  },
  {
   "cell_type": "markdown",
   "id": "bebf3dbb",
   "metadata": {},
   "source": [
    "### Exercice 3 : Monter pour mieux redescendre\n",
    "\n",
    "<p>Réaliser un programme à l'aide de turtle et de boucles pour réaliser le dessin d'un escalier montant, puis descendant comme ceci : </p>\n",
    "\n",
    "<img src=\"img/escalier2.jpg\" alt=\"escalier2\">"
   ]
  },
  {
   "cell_type": "code",
   "execution_count": null,
   "id": "7d6f7872",
   "metadata": {},
   "outputs": [],
   "source": [
    "#-------------------------#\n",
    "#    Écrire le code ici   #\n",
    "#-------------------------#"
   ]
  },
  {
   "cell_type": "markdown",
   "id": "ca923ea0",
   "metadata": {},
   "source": [
    "### Exercice 4 : Spirale\n",
    "\n",
    "<p>Créer un programme à l'aide de turtle et d'une boucle pour réaliser une spirale comme ceci :</p>\n",
    "\n",
    "<img src=\"img/spirale.jpg\" alt=\"spirale\" width=\"300px\">"
   ]
  },
  {
   "cell_type": "code",
   "execution_count": null,
   "id": "b8b0b04f",
   "metadata": {},
   "outputs": [],
   "source": [
    "#-------------------------#\n",
    "#    Écrire le code ici   #\n",
    "#-------------------------#"
   ]
  },
  {
   "cell_type": "markdown",
   "id": "37a30d6c",
   "metadata": {},
   "source": [
    "### Exercice 5 : Imagination \n",
    "\n",
    "<p>Utiliser votre imagination pour réaliser les dessins de vos envies à l'aide de turtle, aucune règle en particulier à respecter !</p>\n",
    "\n",
    "<p>Des exemples sont disponibles dans le fichier de correction !</p>"
   ]
  },
  {
   "cell_type": "code",
   "execution_count": null,
   "id": "ae9924b8",
   "metadata": {},
   "outputs": [],
   "source": [
    "#-------------------------#\n",
    "#    Écrire le code ici   #\n",
    "#-------------------------#"
   ]
  }
 ],
 "metadata": {
  "kernelspec": {
   "display_name": "Python 3 (ipykernel)",
   "language": "python",
   "name": "python3"
  },
  "language_info": {
   "codemirror_mode": {
    "name": "ipython",
    "version": 3
   },
   "file_extension": ".py",
   "mimetype": "text/x-python",
   "name": "python",
   "nbconvert_exporter": "python",
   "pygments_lexer": "ipython3",
   "version": "3.9.12"
  },
  "toc": {
   "base_numbering": 1,
   "nav_menu": {},
   "number_sections": false,
   "sideBar": false,
   "skip_h1_title": false,
   "title_cell": "Table of Contents",
   "title_sidebar": "Contents",
   "toc_cell": false,
   "toc_position": {},
   "toc_section_display": false,
   "toc_window_display": false
  }
 },
 "nbformat": 4,
 "nbformat_minor": 5
}
