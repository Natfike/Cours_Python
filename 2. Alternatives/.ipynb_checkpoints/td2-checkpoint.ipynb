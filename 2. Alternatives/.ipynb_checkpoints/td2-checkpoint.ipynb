{
 "cells": [
  {
   "cell_type": "markdown",
   "id": "60ec3252",
   "metadata": {},
   "source": [
    "# <center>Chapitre 2 : Alternatives - TD</center>"
   ]
  },
  {
   "cell_type": "markdown",
   "id": "db6f448a",
   "metadata": {},
   "source": [
    "## Exercice 1 : Trace de programme\n",
    "\n",
    "<p> Donner la trace du programme, c'est-à-dire donner l'affichage obtenu par l'exécution du programme</p>"
   ]
  },
  {
   "cell_type": "code",
   "execution_count": null,
   "id": "0577c203",
   "metadata": {},
   "outputs": [],
   "source": [
    "x = 65\n",
    "print(x > 65)\n",
    "print(x < 11 or (x > 87 and x < 100))\n",
    "print(x != 65.1)\n",
    "test = not(x > 10 and x<= 123) and x%5 == 0\n",
    "print(test)\n",
    "test = not(test)\n",
    "print(test)\n",
    "print(not(test))"
   ]
  },
  {
   "cell_type": "markdown",
   "id": "36763c98",
   "metadata": {},
   "source": [
    "## Exercice 2 : Affichage d'un test\n",
    "\n",
    "1. Écrire un programme qui demande à l'utilisateur un nombre entier. Si ce nombre est impair et positif ou si il est pair et compris entre 123 et 999 il faut que le programme affiche <code>True</code>. Dans le cas contraire, il doit afficher <code>False</code>.\n",
    "\n",
    "2. Donner un jeu d'essai (4 tests significatifs) et prévoir les résultats.\n",
    "\n",
    "<p><strong>Aide :</strong> Il existe l'opérateur <i><code>modulo / %</code></i> qui permet de calculer le reste de la division euclidienne. Par exemple, <code>10%2</code> vaut <code>0</code>."
   ]
  },
  {
   "cell_type": "code",
   "execution_count": 3,
   "id": "c1c076d6",
   "metadata": {},
   "outputs": [],
   "source": [
    "#-------------------------#\n",
    "#    Écrire le code ici   #\n",
    "#-------------------------#"
   ]
  },
  {
   "cell_type": "markdown",
   "id": "076d2bac",
   "metadata": {},
   "source": [
    "## Exercice 3 : Questions en <code>if<code>"
   ]
  },
  {
   "cell_type": "markdown",
   "id": "936bf1d5",
   "metadata": {},
   "source": [
    "### Question 1 : L'indentation\n",
    "<p>Qu'est ce qu'une indentation ? Quel est son intérêt ?</p>\n",
    "\n",
    "### Question 2 : Else\n",
    "<p>Le <code>else</code> est-il obligatoire après un <code>if</code>? Après un <code>if/elif</code> ?</p>\n",
    "\n",
    "### Question 3 : Imbrication de <code>if</code>\n",
    "<p>Dans le programme suivant, quelles instructions dépendent du premier <code>if</code> ? Et du deuxième <code>if</code> ?"
   ]
  },
  {
   "cell_type": "code",
   "execution_count": null,
   "id": "62ee6040",
   "metadata": {},
   "outputs": [],
   "source": [
    "A = 3              #1\n",
    "B = 0              #2\n",
    "print(1)           #3\n",
    "if A>2:            #4\n",
    "    print(2)       #5\n",
    "    if B>=A:       #6\n",
    "        print(3)   #7\n",
    "    print(4)       #8\n",
    "print(5)           #9"
   ]
  },
  {
   "cell_type": "markdown",
   "id": "ae79dd22",
   "metadata": {},
   "source": [
    "<p>Qu'affiche le programme dans les différents cas qui suivent ?</p>\n",
    "<ul>\n",
    "    <li>quand <code>A = 1</code> et <code>B = 6</code></li>\n",
    "    <li>quand <code>A = 8</code> et <code>B = 9</code></li>\n",
    "    <li>quand <code>A = 3</code> et <code>B = 2</code></li>\n",
    "</ul>"
   ]
  },
  {
   "cell_type": "markdown",
   "id": "dce7e29c",
   "metadata": {},
   "source": [
    "## Exercice 4 : L'affichage de B\n",
    "\n",
    "<p>Pour quelle(s) valeur(s) de <code>A</code> l'instruction <code>print(\"B\")</code> est-elle exécutée dans chacun des codes ci-dessous ?"
   ]
  },
  {
   "cell_type": "code",
   "execution_count": null,
   "id": "33d545b9",
   "metadata": {},
   "outputs": [],
   "source": [
    "if A>10:\n",
    "    print(\"A\")\n",
    "else:\n",
    "    print(\"B\")"
   ]
  },
  {
   "cell_type": "code",
   "execution_count": null,
   "id": "aa49f948",
   "metadata": {},
   "outputs": [],
   "source": [
    "if A>10:\n",
    "    print(\"A\")\n",
    "elif A> 30:\n",
    "    print(\"B\")"
   ]
  },
  {
   "cell_type": "code",
   "execution_count": null,
   "id": "56091619",
   "metadata": {},
   "outputs": [],
   "source": [
    "if A>10:\n",
    "    print(\"A\")\n",
    "if A>200:\n",
    "    print(\"B\")"
   ]
  },
  {
   "cell_type": "code",
   "execution_count": null,
   "id": "0a0c3ac3",
   "metadata": {},
   "outputs": [],
   "source": [
    "if A>10 and A<10:\n",
    "    print(\"A\")\n",
    "else:\n",
    "    print(\"B\")"
   ]
  },
  {
   "cell_type": "markdown",
   "id": "c9902317",
   "metadata": {},
   "source": [
    "## Exercice 5 : L'affichage de C"
   ]
  },
  {
   "cell_type": "markdown",
   "id": "ddb348ec",
   "metadata": {},
   "source": [
    "<p>Pour quelle(s) valeur(s) de <code>A</code> l'instruction <code>print(\"C\")</code> est-elle exécutée ?</p>"
   ]
  },
  {
   "cell_type": "code",
   "execution_count": null,
   "id": "b7f38d0a",
   "metadata": {},
   "outputs": [],
   "source": [
    "if A < 789:\n",
    "   print(\"A\")\n",
    "elif A>=789:\n",
    "   print(\"B\")\n",
    "else:\n",
    "   print(\"C\")"
   ]
  },
  {
   "cell_type": "markdown",
   "id": "c0339fd6",
   "metadata": {},
   "source": [
    "## Exercice 6 : Réduction du nombre de tests*\n",
    "\n",
    "<p>Peut-on réduire le nombre de tests dans le programme suivant ? Si oui, comment ?</p>\n",
    "\n",
    "<p>Indication : Il y a 6 tests effectué actuellement</p>"
   ]
  },
  {
   "cell_type": "code",
   "execution_count": null,
   "id": "11b81153",
   "metadata": {},
   "outputs": [],
   "source": [
    "A=float(input())\n",
    "if A <= 10:\n",
    "   print(\"A\")\n",
    "elif A> 10  and A <= 50:\n",
    "   print(\"B\")\n",
    "elif A> 50  and A < 100:\n",
    "   print(\"C\")\n",
    "elif A >=100:\n",
    "   print(\"D\")"
   ]
  },
  {
   "cell_type": "markdown",
   "id": "1261e80f",
   "metadata": {},
   "source": [
    "## Exercice 7 : Différence de deux nombres*\n",
    "\n",
    "<p>Écrire un algorithme qui demande deux nombres entiers à l'utilisateur et calcule la différence entre le plus grand nombre et le plus petit nombre, quel que soit l'ordre de saisie (il ne faut donc pas obtenir un résultat négatif).</p>"
   ]
  },
  {
   "cell_type": "code",
   "execution_count": null,
   "id": "e03ad8eb",
   "metadata": {},
   "outputs": [],
   "source": [
    "#-------------------------#\n",
    "#    Écrire le code ici   #\n",
    "#-------------------------#"
   ]
  },
  {
   "cell_type": "markdown",
   "id": "6ae18bc4",
   "metadata": {},
   "source": [
    "## Exercice 8 : Calcul de gabarit*\n",
    "\n",
    "<p>On veut définir le gabarit d'un objet en fonction de sa taille. Le gabarit peut prendre les valeurs <code>\"Grand\"</code>, <code>Moyen</code>, ou <code>Petit</code> selon que la taille soit respectivement supérieure ou égale à 12, comprise entre 12 (non incluse) et 2(non incluse) ou inférieur ou égale à 2.</p>\n",
    "\n",
    "<p>Écrire un programme qui demande à l'utilisateur la taille d'un objet et affiche après l'avoir déterminé le gabarit correspondant.</p>"
   ]
  },
  {
   "cell_type": "code",
   "execution_count": 4,
   "id": "01930526",
   "metadata": {},
   "outputs": [],
   "source": [
    "#-------------------------#\n",
    "#    Écrire le code ici   #\n",
    "#-------------------------#"
   ]
  },
  {
   "cell_type": "markdown",
   "id": "093433ab",
   "metadata": {},
   "source": [
    "## Exercice 9 : Racine d'un polynôme du second degré**\n",
    "\n",
    "<p>Écrire un algorithme qui calcule et affiche les racines réelles d'un polynôme du second degré.</p>\n",
    "\n",
    "<p><a href=\"https://youtu.be/tc9wvbYuZts\"><strong>NB :</strong>Ce sont les racines réelles de l'équation <strong>ax² + bx + c = 0</strong></a></p>\n",
    "\n",
    "<p><strong>Remarque :</strong> En Python, on obtient la raciné carrée d'un nombre <code>x</code> grâce à l'appel math.sqrt(x). Il faut auparavant avoir importé le module <code>math</code> grâce à l'instruction <code>import math</code>.</p>"
   ]
  },
  {
   "cell_type": "code",
   "execution_count": 1,
   "id": "82103bf0",
   "metadata": {},
   "outputs": [],
   "source": [
    "import math"
   ]
  },
  {
   "cell_type": "code",
   "execution_count": null,
   "id": "a93043e9",
   "metadata": {},
   "outputs": [],
   "source": [
    "#-------------------------#\n",
    "#    Écrire le code ici   #\n",
    "#-------------------------#"
   ]
  },
  {
   "cell_type": "markdown",
   "id": "4c8aeb08",
   "metadata": {},
   "source": [
    "## Bonus pour s'entraîner encore plus"
   ]
  },
  {
   "cell_type": "markdown",
   "id": "4cc1f414",
   "metadata": {},
   "source": [
    "## Exercice 10 : Celsius vs Farhenheit*\n",
    "\n",
    "<p>Pour mesurer une température, il existe plusieurs unités de mesure. Il est notamment possible de mesurer une température en degrés Celsius ou en degré Fahrenheit et la relation est la suivante :</p>\n",
    "$$T(°F) = \\frac{9}{5} T(°C) + 32.$$\n",
    "\n",
    "### Question 1 :\n",
    "\n",
    "<p>Écrire un programme permettant à l'utilisateur de saisir une valeur flottante ainsi que son choix :</p>\n",
    "\n",
    "    1. Convertir cette valeur en degré Fahrenheit si la valeur saisie est en Celsius\n",
    "    2. Convertir cette valeur en degré Celsius si la valeur saisie est en Celsius.\n",
    "<p>Et qui affichera le résultat obtenu</p>"
   ]
  },
  {
   "cell_type": "code",
   "execution_count": null,
   "id": "68221126",
   "metadata": {},
   "outputs": [],
   "source": [
    "#-------------------------#\n",
    "#    Écrire le code ici   #\n",
    "#-------------------------#"
   ]
  },
  {
   "cell_type": "markdown",
   "id": "03b104b8",
   "metadata": {},
   "source": [
    "### Question 2 :\n",
    "\n",
    "<p>Écrire un programme permettant à l'utilisateur de saisir deux températures, la première en degrés Celsius et la seconde en degré Fahrenheit. Le programme affiche alors si les deux températures sont équivalentes ou non. </p>\n",
    "\n",
    "<p>Attention cependant, les valeurs étant des floats, vous ne pourrez pas les comparer avec le symbole <code>==</code>, à vous de trouver, à l'aide d'internet, comment faire !</p>"
   ]
  },
  {
   "cell_type": "code",
   "execution_count": null,
   "id": "94266d66",
   "metadata": {},
   "outputs": [],
   "source": [
    "#-------------------------#\n",
    "#    Écrire le code ici   #\n",
    "#-------------------------#"
   ]
  },
  {
   "cell_type": "markdown",
   "id": "04c61e57",
   "metadata": {},
   "source": [
    "## Exercice 11 : Facture pour la reprographie\n",
    "\n",
    "<p>Un magasin de reprographie facture 0.10€ les dix premières photocopies, 0.09€ les vingts suivantes et 0.08€ au-delà. Ainsi, 18 photocopies coûtent 1.72€ (10*0.10 + 8*0.09). Écrire un programme qui demande à l'utilisateur le nombre de photocopies à effectuer et qui affiche la facture correspondante.</p>"
   ]
  },
  {
   "cell_type": "code",
   "execution_count": null,
   "id": "d26b8806",
   "metadata": {},
   "outputs": [],
   "source": [
    "#-------------------------#\n",
    "#    Écrire le code ici   #\n",
    "#-------------------------#"
   ]
  },
  {
   "cell_type": "markdown",
   "id": "3ca18adc",
   "metadata": {},
   "source": [
    "## Exercice 12 : L'impôt \n",
    "\n",
    "<p> Dans le pays de Vico, les habitants paient l'impôt selon d'étranges règles :</p>\n",
    "<ul>\n",
    "    <li>Les hommes de plus de 22 ans paient l'impôt.</li>\n",
    "    <li>Les femmes entre 78 et 122 ans paient l'impôt</li>\n",
    "    <li>Les autres ne paient aucun impôt.</li>\n",
    "</ul>\n",
    "\n",
    "<p>Écrire un programme demandant l'âge et le sexe du Viconien qui affichera si l'habitant est imposable ou non</p>"
   ]
  },
  {
   "cell_type": "code",
   "execution_count": null,
   "id": "24b43148",
   "metadata": {},
   "outputs": [],
   "source": [
    "#-------------------------#\n",
    "#    Écrire le code ici   #\n",
    "#-------------------------#"
   ]
  }
 ],
 "metadata": {
  "kernelspec": {
   "display_name": "Python 3 (ipykernel)",
   "language": "python",
   "name": "python3"
  },
  "language_info": {
   "codemirror_mode": {
    "name": "ipython",
    "version": 3
   },
   "file_extension": ".py",
   "mimetype": "text/x-python",
   "name": "python",
   "nbconvert_exporter": "python",
   "pygments_lexer": "ipython3",
   "version": "3.9.12"
  },
  "toc": {
   "base_numbering": 1,
   "nav_menu": {},
   "number_sections": false,
   "sideBar": true,
   "skip_h1_title": false,
   "title_cell": "Table of Contents",
   "title_sidebar": "Contents",
   "toc_cell": false,
   "toc_position": {
    "height": "calc(100% - 180px)",
    "left": "10px",
    "top": "150px",
    "width": "192.8px"
   },
   "toc_section_display": true,
   "toc_window_display": false
  }
 },
 "nbformat": 4,
 "nbformat_minor": 5
}
