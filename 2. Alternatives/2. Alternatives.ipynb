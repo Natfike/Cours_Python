{
 "cells": [
  {
   "cell_type": "markdown",
   "id": "8f1ed904",
   "metadata": {},
   "source": [
    "# <center>Chapitre 2 : Alternatives</center>"
   ]
  },
  {
   "cell_type": "markdown",
   "id": "e7ce0593",
   "metadata": {},
   "source": [
    "<p> Nous avons appris dans le premier chapitre à demander des informations, les stocker et les afficher, mais nous ne pouvons pour le moment pas faire de test de conditions ! Alors comment faire ?</p>\n"
   ]
  },
  {
   "cell_type": "markdown",
   "id": "ae9a670d",
   "metadata": {},
   "source": [
    "## Tests et booleans"
   ]
  },
  {
   "cell_type": "markdown",
   "id": "d613bb17",
   "metadata": {},
   "source": [
    "<p> Pour pouvoir effectuer nos tests, nous allons utiliser des booléens! Au moins, nous sommes sur d'avoir une réponse, soit un <code>False</code>, soit un <code>True</code> (ou bien le programme plante, mais nous aurons aussi un retour en cas de soucis). </p>\n",
    "\n",
    "<p>Une condition simple pourra être vue comme une question qui commencerait par <code>\"est-ce-que...\"</code>, par exemple : Est-ce que la Terre est plate ? On aura en réponse <code>False</code> alors que pour la question 15>2 (ou est-ce que 15 et plus grand que 2) cela sera <code>True</code> </p>"
   ]
  },
  {
   "cell_type": "markdown",
   "id": "9d210a33",
   "metadata": {},
   "source": [
    "### Comparaisons"
   ]
  },
  {
   "cell_type": "markdown",
   "id": "deb1885e",
   "metadata": {},
   "source": [
    "<p>Les premiers tests que nous apprendront ici seront les comparaisons. Comme en maths, nous utiliserons les symboles <code><</code> et <code>></code> pour les tests respectifs \"a strictement plus petit que b ?\" et \"a strictement plus grand que b ?\" </code>. Pour les tests dont nous voulons aussi tester l'égalité, il suffit de rajouter un égal, donc <code>=<</code> et <code>=></code>.</p>"
   ]
  },
  {
   "cell_type": "code",
   "execution_count": 1,
   "id": "0dea4cd2",
   "metadata": {},
   "outputs": [
    {
     "name": "stdout",
     "output_type": "stream",
     "text": [
      "False\n",
      "True\n",
      "True\n",
      "True\n"
     ]
    }
   ],
   "source": [
    "print(5<5)\n",
    "print(5>3)\n",
    "print(5>=1)\n",
    "print(5<=5)"
   ]
  },
  {
   "cell_type": "markdown",
   "id": "90e8fd4f",
   "metadata": {},
   "source": [
    "<p>Viennent alors les opérateurs <code>==</code> et <code>!=</code>, respectivement pour les tests \"a est il égal à b ?\" et \"a est il différent de b ?\".</p>"
   ]
  },
  {
   "cell_type": "code",
   "execution_count": 5,
   "id": "a9c3c1f7",
   "metadata": {},
   "outputs": [
    {
     "name": "stdout",
     "output_type": "stream",
     "text": [
      "False\n",
      "True\n"
     ]
    }
   ],
   "source": [
    "print(5==3)\n",
    "print(5!=9)"
   ]
  },
  {
   "cell_type": "markdown",
   "id": "98dbb9bd",
   "metadata": {},
   "source": [
    "### Et pour les chaînes de caractères ?"
   ]
  },
  {
   "cell_type": "markdown",
   "id": "8d76dd53",
   "metadata": {},
   "source": [
    "<p>Les codes présentés ci-dessus possèdent seulement des entiers. Les opérateurs de comparaison fonctionnent de la même façon pour les flottants, mais une différence est notable pour les chaînes de caractères au niveau des opérateurs <code><</code> et <code>></code>. Ici, la comparaison ne se fait pas à la chaîne la plus petite ou la plus grande, mais à qui vient en premier/dernier dans l'ordre alphabétique, comme dans un dictionnaire ! </p>"
   ]
  },
  {
   "cell_type": "code",
   "execution_count": 16,
   "id": "4a03cce9",
   "metadata": {},
   "outputs": [
    {
     "name": "stdout",
     "output_type": "stream",
     "text": [
      "False\n",
      "True\n",
      "True\n",
      "False\n",
      "True\n"
     ]
    }
   ],
   "source": [
    "print(\"a\"<\"A\")\n",
    "print(\"a\">\"A\")\n",
    "print(\"a\"<\"b\")\n",
    "print(\"Toto\"<\"Tata\")\n",
    "print(\"Toto\"<\"toto\")"
   ]
  },
  {
   "cell_type": "markdown",
   "id": "e6a815b8",
   "metadata": {},
   "source": [
    "### Tests complexes"
   ]
  },
  {
   "cell_type": "markdown",
   "id": "803e3153",
   "metadata": {},
   "source": [
    "<p>Il nous est possible de combiner des tests simples comme ceux au-dessus pour créer des tests plus complexes. Pour ce faire, nous utiliserons les opérateurs logiques <code>and</code>, <code>or</code> et <code>not</code>.</p>\n",
    "\n",
    "<p>L'opérateur <code>and</code> retournera <code>True</code> si les deux tests simples qui le composent sont tous les deux vrais, sinon il donnera un <code>False</code>.</p>\n",
    "<p>Pour le <code>or</code>, si au moins un des deux tests le composant est à <code>True</code>, alors il sera <code>True</code>.</p>\n",
    "<p>Finalement, le <code>not</code> sert de négation, de \"n'est pas\". Par exemple, <code>not 3>5</code> retournera <code>True</code>, car 3 <strong>n'est pas</strong> plus grand que 5.</p>\n",
    "\n",
    "<p>Ci-dessous, vous retrouvez une table de vérité contenant toutes les combinaisons possibles. Les deux premières colonnes représentent la valeur des expressions 1 et 2, et les trois autres le résultat de l'utilisation d'un opérateur logique sur ces dernières.</p>"
   ]
  },
  {
   "cell_type": "markdown",
   "id": "6204bad5",
   "metadata": {},
   "source": [
    "| E1  | E2  | E1 and E2  | E1 or E2 | not E1 |\n",
    "|-----|-----|------------|----------|--------|\n",
    "|True |True |    True    |   True   |  False |\n",
    "|True |False|    False   |   True   |  False |\n",
    "|False|True |    False   |   True   |  True  |\n",
    "|False|False|    False   |   False  |  True  |"
   ]
  },
  {
   "cell_type": "markdown",
   "id": "ba2c1165",
   "metadata": {},
   "source": [
    "<p>Il faut la lire par <strong>ligne</strong>, par exemple, pour la seconde ligne, cela donnerait : <i>Si E1 est vrai et E2 est vrai, alors E1 and E2 est vrai, E1 ou E2 est vrai, et le contraire de E1 est faux</i>.</p>"
   ]
  },
  {
   "cell_type": "markdown",
   "id": "778208ed",
   "metadata": {},
   "source": [
    "## Structures de contrôle conditionnelles"
   ]
  },
  {
   "cell_type": "markdown",
   "id": "3c90c226",
   "metadata": {},
   "source": [
    "<p>Nous savons maintenant comment faire des tests de logiques, mais cela ne nous avance toujours pas pour nos programmes. Pour pouvoir faire des choix en fonction de nos tests, il nous faudra des structures de contrôle conditionnelles. En Python, nous utiliserons les structures <code>if</code>, <code>elif</code> et <code>else</code>.</p>"
   ]
  },
  {
   "cell_type": "markdown",
   "id": "9d2bf0e7",
   "metadata": {},
   "source": [
    "<p>La première, le <code>if</code>, nous permettra de faire un premier test, et si le test se révèle être <code>True</code>, alors les instructions liées au if seront exécutés, sinon l'ordinateur les sauteras et passera à la suite. La mise en forme d'un if est importante à cause de <strong>l'indentation</strong>, qui est un petit espace que l'on met au début de la ligne. Une mauvaise tabulation en Python et le programme ne fonctionnera juste pas !  Pour la faire, vous pouvez appuyer sur votre touche <code>TAB</code>, ou faire 4 espaces. La mise en forme d'un <code>if</code> donne ceci :"
   ]
  },
  {
   "cell_type": "markdown",
   "id": "71da5ec8",
   "metadata": {},
   "source": [
    "```python\n",
    "if expression 1:\n",
    "    instruction 1\n",
    "    instruction 2\n",
    "    ...\n",
    "```"
   ]
  },
  {
   "cell_type": "markdown",
   "id": "4399b7e7",
   "metadata": {},
   "source": [
    "<p>La seconde que nous allons voir sera <code>elif</code>. Elle s'exécute à la suite d'un <code>if</code>, et sera exécutée seulement si les tests précédents ont été <code>False</code>, et que son expression est à <code>True</code>. Son fonctionnement est exactement le même qu'un <code>if</code>, sauf qu'ici dans une même structure de contrôle, vous pourrez mettre une multitude de <code>elif</code> si besoin.</p>"
   ]
  },
  {
   "cell_type": "markdown",
   "id": "184786c3",
   "metadata": {},
   "source": [
    "```python\n",
    "if expression 1 :\n",
    "    ...\n",
    "elif expression 2 :\n",
    "    instruction 1\n",
    "    ...\n",
    "```"
   ]
  },
  {
   "cell_type": "markdown",
   "id": "b84bd169",
   "metadata": {},
   "source": [
    "<p>Finalement, la dernière structure que nous allons voir sera le <else>, qui sera exécuté uniquement si tous les autres tests précédents étaient à <code>False</code>. A la différence d'un if ou d'un elif, il n'y a pas besoin ici d'expression à contrôler."
   ]
  },
  {
   "cell_type": "markdown",
   "id": "8bb58dbb",
   "metadata": {},
   "source": [
    "```python\n",
    "if expression 1 :\n",
    "    instruction 1\n",
    "    ...\n",
    "elif expression 2 :\n",
    "    instruction 1\n",
    "    ...\n",
    "else :\n",
    "    instructions 1\n",
    "    ...\n",
    "```"
   ]
  },
  {
   "cell_type": "markdown",
   "id": "7da04b45",
   "metadata": {},
   "source": [
    "<p>Un petit exemple pour essayer de comprendre ci-dessous, essayer de changer la valeur de la variable <code>nombre</code> pour tester totalement le programme !</p>"
   ]
  },
  {
   "cell_type": "code",
   "execution_count": 18,
   "id": "af4a9a69",
   "metadata": {},
   "outputs": [
    {
     "name": "stdout",
     "output_type": "stream",
     "text": [
      "Le nombre est positif\n"
     ]
    }
   ],
   "source": [
    "nombre = 5\n",
    "if nombre<0 :\n",
    "    print(\"Le nombre est négatif\")\n",
    "elif nombre>0 :\n",
    "    print(\"Le nombre est positif\")\n",
    "else :\n",
    "    print(\"Le nombre saisi est 0\")"
   ]
  },
  {
   "cell_type": "markdown",
   "id": "17e56b1b",
   "metadata": {},
   "source": [
    "## Utilisation de modules"
   ]
  },
  {
   "cell_type": "markdown",
   "id": "13278132",
   "metadata": {},
   "source": [
    "<p>Faisons rapidement en \"bonus\" un petit aparté final sur l'importation de module. Python nous permet de réaliser énormément de choses par lui-même, mais des bibliothèques entières de fonctions ont été créées pour faire à peu près tout ce que l'on peut imaginer ! Pour importer une bibliothèque en Python, on utilise l'instruction <code>import</code>, qui peut être écrites de différentes façon :</p>"
   ]
  },
  {
   "cell_type": "markdown",
   "id": "6b3a9a14",
   "metadata": {},
   "source": [
    "```python\n",
    "import math #Il faudra rajouter math. au début de chaque utilisation d'une fonction, comme math.sqrt()\n",
    "import math as mt #Comme la première ligne, change juste le préfixe de math à mt : mt.sqrt()\n",
    "from math import * #Vous allez importez toutes les fonctions, et il vous suffira d'utiliser le nom de la fonction seule\n",
    "```"
   ]
  },
  {
   "cell_type": "markdown",
   "id": "6c881ca1",
   "metadata": {},
   "source": [
    "<p><strong>Attention :</strong> Un soucis peut vite arriver avec la troisième méthode si vous importer de deux bibliothèques différentes une fonction possédant le même nom !</p>\n",
    "\n",
    "<p>Toutes les bibliothèques possèdent une documentation en ligne, n'hésitez pas à aller la lire lorsque vous ferez appel à leurs fonctions ^^</p>"
   ]
  }
 ],
 "metadata": {
  "kernelspec": {
   "display_name": "Python 3 (ipykernel)",
   "language": "python",
   "name": "python3"
  },
  "language_info": {
   "codemirror_mode": {
    "name": "ipython",
    "version": 3
   },
   "file_extension": ".py",
   "mimetype": "text/x-python",
   "name": "python",
   "nbconvert_exporter": "python",
   "pygments_lexer": "ipython3",
   "version": "3.9.12"
  },
  "toc": {
   "base_numbering": 1,
   "nav_menu": {
    "height": "321px",
    "width": "279px"
   },
   "number_sections": true,
   "sideBar": true,
   "skip_h1_title": true,
   "title_cell": "Table of Contents",
   "title_sidebar": "Contents",
   "toc_cell": false,
   "toc_position": {
    "height": "775px",
    "left": "114px",
    "top": "152px",
    "width": "384px"
   },
   "toc_section_display": true,
   "toc_window_display": false
  }
 },
 "nbformat": 4,
 "nbformat_minor": 5
}
